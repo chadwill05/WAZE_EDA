{
  "cells": [
    {
      "cell_type": "markdown",
      "metadata": {
        "id": "view-in-github",
        "colab_type": "text"
      },
      "source": [
        "<a href=\"https://colab.research.google.com/github/chadwill05/WAZE_EDA/blob/main/_Waze_EDA_part_3.ipynb\" target=\"_parent\"><img src=\"https://colab.research.google.com/assets/colab-badge.svg\" alt=\"Open In Colab\"/></a>"
      ]
    },
    {
      "cell_type": "markdown",
      "metadata": {
        "id": "DtNBZFHO3M7n"
      },
      "source": [
        "# **Waze Project**\n",
        "**Course 3 - Go Beyond the Numbers: Translate Data into Insights**"
      ]
    },
    {
      "cell_type": "markdown",
      "metadata": {
        "id": "g-E8SNtmRUkN"
      },
      "source": [
        "Your team is still in the early stages of their user churn project. So far, you’ve completed a project proposal and used Python to inspect and organize Waze’s user data.\n",
        "\n",
        "You check your inbox and notice a new message from Chidi Ga, your team’s Senior Data Analyst. Chidi is pleased with the work you have already completed and requests your assistance with exploratory data analysis (EDA) and further data visualization. Harriet Hadzic, Waze's Director of Data Analysis, will want to review a Python notebook that shows your data exploration and visualization.\n",
        "\n",
        "A notebook was structured and prepared to help you in this project. Please complete the following questions and prepare an executive summary."
      ]
    },
    {
      "cell_type": "markdown",
      "metadata": {
        "id": "rgSbVJvomcVa"
      },
      "source": [
        "# **Course 3 End-of-course project: Exploratory data analysis**\n",
        "\n",
        "In this activity, you will examine data provided and prepare it for analysis.\n",
        "<br/>\n",
        "\n",
        "**The purpose** of this project is to conduct exploratory data analysis (EDA) on a provided dataset.\n",
        "\n",
        "**The goal** is to continue the examination of the data that you began in the previous Course, adding relevant visualizations that help communicate the story that the data tells.\n",
        "<br/>\n",
        "\n",
        "\n",
        "*This activity has 4 parts:*\n",
        "\n",
        "**Part 1:** Imports, links, and loading\n",
        "\n",
        "**Part 2:** Data Exploration\n",
        "*   Data cleaning\n",
        "\n",
        "\n",
        "**Part 3:** Building visualizations\n",
        "\n",
        "**Part 4:** Evaluating and sharing results\n",
        "\n",
        "<br/>\n",
        "\n",
        "\n",
        "Follow the instructions and answer the question below to complete the activity. Then, you will complete an executive summary using the questions listed on the [PACE Strategy Document ](https://docs.google.com/document/d/1iSHdbfQR6w8RClJNWai8oJXn9tQmYoTKn6QohuaK4-s/template/preview?resourcekey=0-ZIHnbxL1dd2u9A47iEVXvg).\n",
        "\n",
        "Be sure to complete this activity before moving on. The next course item will provide you with a completed exemplar to compare to your own work."
      ]
    },
    {
      "cell_type": "markdown",
      "metadata": {
        "id": "9D43bTW0zOlX"
      },
      "source": [
        "# **Visualize a story in Python**"
      ]
    },
    {
      "cell_type": "markdown",
      "metadata": {
        "id": "rdR5eWbYx8GE"
      },
      "source": [
        "<img src=\"images/Pace.png\" width=\"100\" height=\"100\" align=left>\n",
        "\n",
        "# **PACE stages**\n"
      ]
    },
    {
      "cell_type": "markdown",
      "metadata": {
        "id": "diPme_MzeshF"
      },
      "source": [
        "Throughout these project notebooks, you'll see references to the problem-solving framework PACE. The following notebook components are labeled with the respective PACE stage: Plan, Analyze, Construct, and Execute."
      ]
    },
    {
      "cell_type": "markdown",
      "metadata": {
        "id": "xKLZJUqMx8GE"
      },
      "source": [
        "<img src=\"images/Plan.png\" width=\"100\" height=\"100\" align=left>\n",
        "\n",
        "\n",
        "## **PACE: Plan**\n",
        "\n",
        "Consider the questions in your PACE Strategy Document to reflect on the Plan stage.\n",
        "\n"
      ]
    },
    {
      "cell_type": "markdown",
      "metadata": {
        "id": "SKur6gTPRcvy"
      },
      "source": [
        "### **Task 1. Imports and data loading**\n",
        "\n",
        "For EDA of the data, import the data and packages that will be most helpful, such as pandas, numpy, and matplotlib.\n",
        "\n",
        "\n"
      ]
    },
    {
      "cell_type": "code",
      "execution_count": 4,
      "metadata": {
        "id": "EO8vKZI8x8GF"
      },
      "outputs": [],
      "source": [
        "### YOUR CODE HERE ###\n",
        "import pandas as pd\n",
        "import numpy as np\n",
        "import matplotlib.pyplot as plt\n",
        "import seaborn as sns"
      ]
    },
    {
      "cell_type": "markdown",
      "metadata": {
        "id": "Rf1WWIBW48QC"
      },
      "source": [
        "Read in the data and store it as a dataframe object called df.\n",
        "\n",
        "**Note:** As shown in this cell, the dataset has been automatically loaded in for you. You do not need to download the .csv file, or provide more code, in order to access the dataset and proceed with this lab. Please continue with this activity by completing the following instructions."
      ]
    },
    {
      "cell_type": "code",
      "execution_count": 5,
      "metadata": {
        "id": "w7XSDxoqyF9D",
        "scrolled": true
      },
      "outputs": [],
      "source": [
        "# Load the dataset into a dataframe\n",
        "df = pd.read_csv('waze_dataset.csv')"
      ]
    },
    {
      "cell_type": "markdown",
      "metadata": {
        "id": "3mipEiyZx8GI"
      },
      "source": [
        "<img src=\"images/Analyze.png\" width=\"100\" height=\"100\" align=left>\n",
        "\n",
        "## **PACE: Analyze**\n",
        "\n",
        "Consider the questions in your PACE Strategy Document and those below where applicable to complete your code:\n",
        "1. Does the data need to be restructured or converted into usable formats?\n",
        "\n",
        "2. Are there any variables that have missing data?\n"
      ]
    },
    {
      "cell_type": "markdown",
      "metadata": {
        "id": "VZiH_pEMNm_M"
      },
      "source": [
        "1. The data was already formated. Each row represents a user.\n",
        "2. Yes, 700 rows have label missing. Other variables have no missing values."
      ]
    },
    {
      "cell_type": "markdown",
      "metadata": {
        "id": "n09krlKWRw_2"
      },
      "source": [
        "### **Task 2. Data exploration and cleaning**\n",
        "\n",
        "Consider the following questions:\n",
        "\n",
        "\n",
        "\n",
        "1.  Given the scenario, which data columns are most applicable?\n",
        "\n",
        "2.  Which data columns can you eliminate, knowing they won’t solve your problem scenario?\n",
        "\n",
        "3.  How would you check for missing data? And how would you handle missing data (if any)?\n",
        "\n",
        "4.  How would you check for outliers? And how would handle outliers (if any)?\n",
        "\n",
        "\n",
        "\n",
        "\n",
        "\n"
      ]
    },
    {
      "cell_type": "markdown",
      "metadata": {
        "id": "WQDcGzfANuSe"
      },
      "source": [
        "==> ENTER YOUR RESPONSES TO QUESTIONS 1-4 HERE\n",
        "1. This EDA is specific on churn, the label column is essential. Besides the label column, variables that tie to user behavior are most applicable.\n",
        "2. ID can be dropped since we are not interested in identifying one specific user.\n",
        "3. df.info() can be used to check for non-nulls. I can check if it affects the dataset before I make any changes.\n",
        "4. I would do the same thing as 3."
      ]
    },
    {
      "cell_type": "markdown",
      "metadata": {
        "id": "uk6zuv_mUU2k"
      },
      "source": [
        "#### **Data overview and summary statistics**\n",
        "\n",
        "Use the following methods and attributes on the dataframe:\n",
        "\n",
        "* `head()`\n",
        "* `size`\n",
        "* `describe()`\n",
        "* `info()`\n",
        "\n",
        "It's always helpful to have this information at the beginning of a project, where you can always refer back to if needed."
      ]
    },
    {
      "cell_type": "code",
      "execution_count": 6,
      "metadata": {
        "id": "cBOUo5p-tbib",
        "colab": {
          "base_uri": "https://localhost:8080/",
          "height": 226
        },
        "outputId": "f667362f-da99-4762-ec2d-eda4695fca81"
      },
      "outputs": [
        {
          "output_type": "execute_result",
          "data": {
            "text/plain": [
              "   ID     label  sessions  drives  total_sessions  n_days_after_onboarding  \\\n",
              "0   0  retained       283     226      296.748273                     2276   \n",
              "1   1  retained       133     107      326.896596                     1225   \n",
              "2   2  retained       114      95      135.522926                     2651   \n",
              "3   3  retained        49      40       67.589221                       15   \n",
              "4   4  retained        84      68      168.247020                     1562   \n",
              "\n",
              "   total_navigations_fav1  total_navigations_fav2  driven_km_drives  \\\n",
              "0                     208                       0       2628.845068   \n",
              "1                      19                      64      13715.920550   \n",
              "2                       0                       0       3059.148818   \n",
              "3                     322                       7        913.591123   \n",
              "4                     166                       5       3950.202008   \n",
              "\n",
              "   duration_minutes_drives  activity_days  driving_days   device  \n",
              "0              1985.775061             28            19  Android  \n",
              "1              3160.472914             13            11   iPhone  \n",
              "2              1610.735904             14             8  Android  \n",
              "3               587.196542              7             3   iPhone  \n",
              "4              1219.555924             27            18  Android  "
            ],
            "text/html": [
              "\n",
              "  <div id=\"df-2b12eb9b-f91f-41d0-9bc5-1359e67232d2\" class=\"colab-df-container\">\n",
              "    <div>\n",
              "<style scoped>\n",
              "    .dataframe tbody tr th:only-of-type {\n",
              "        vertical-align: middle;\n",
              "    }\n",
              "\n",
              "    .dataframe tbody tr th {\n",
              "        vertical-align: top;\n",
              "    }\n",
              "\n",
              "    .dataframe thead th {\n",
              "        text-align: right;\n",
              "    }\n",
              "</style>\n",
              "<table border=\"1\" class=\"dataframe\">\n",
              "  <thead>\n",
              "    <tr style=\"text-align: right;\">\n",
              "      <th></th>\n",
              "      <th>ID</th>\n",
              "      <th>label</th>\n",
              "      <th>sessions</th>\n",
              "      <th>drives</th>\n",
              "      <th>total_sessions</th>\n",
              "      <th>n_days_after_onboarding</th>\n",
              "      <th>total_navigations_fav1</th>\n",
              "      <th>total_navigations_fav2</th>\n",
              "      <th>driven_km_drives</th>\n",
              "      <th>duration_minutes_drives</th>\n",
              "      <th>activity_days</th>\n",
              "      <th>driving_days</th>\n",
              "      <th>device</th>\n",
              "    </tr>\n",
              "  </thead>\n",
              "  <tbody>\n",
              "    <tr>\n",
              "      <th>0</th>\n",
              "      <td>0</td>\n",
              "      <td>retained</td>\n",
              "      <td>283</td>\n",
              "      <td>226</td>\n",
              "      <td>296.748273</td>\n",
              "      <td>2276</td>\n",
              "      <td>208</td>\n",
              "      <td>0</td>\n",
              "      <td>2628.845068</td>\n",
              "      <td>1985.775061</td>\n",
              "      <td>28</td>\n",
              "      <td>19</td>\n",
              "      <td>Android</td>\n",
              "    </tr>\n",
              "    <tr>\n",
              "      <th>1</th>\n",
              "      <td>1</td>\n",
              "      <td>retained</td>\n",
              "      <td>133</td>\n",
              "      <td>107</td>\n",
              "      <td>326.896596</td>\n",
              "      <td>1225</td>\n",
              "      <td>19</td>\n",
              "      <td>64</td>\n",
              "      <td>13715.920550</td>\n",
              "      <td>3160.472914</td>\n",
              "      <td>13</td>\n",
              "      <td>11</td>\n",
              "      <td>iPhone</td>\n",
              "    </tr>\n",
              "    <tr>\n",
              "      <th>2</th>\n",
              "      <td>2</td>\n",
              "      <td>retained</td>\n",
              "      <td>114</td>\n",
              "      <td>95</td>\n",
              "      <td>135.522926</td>\n",
              "      <td>2651</td>\n",
              "      <td>0</td>\n",
              "      <td>0</td>\n",
              "      <td>3059.148818</td>\n",
              "      <td>1610.735904</td>\n",
              "      <td>14</td>\n",
              "      <td>8</td>\n",
              "      <td>Android</td>\n",
              "    </tr>\n",
              "    <tr>\n",
              "      <th>3</th>\n",
              "      <td>3</td>\n",
              "      <td>retained</td>\n",
              "      <td>49</td>\n",
              "      <td>40</td>\n",
              "      <td>67.589221</td>\n",
              "      <td>15</td>\n",
              "      <td>322</td>\n",
              "      <td>7</td>\n",
              "      <td>913.591123</td>\n",
              "      <td>587.196542</td>\n",
              "      <td>7</td>\n",
              "      <td>3</td>\n",
              "      <td>iPhone</td>\n",
              "    </tr>\n",
              "    <tr>\n",
              "      <th>4</th>\n",
              "      <td>4</td>\n",
              "      <td>retained</td>\n",
              "      <td>84</td>\n",
              "      <td>68</td>\n",
              "      <td>168.247020</td>\n",
              "      <td>1562</td>\n",
              "      <td>166</td>\n",
              "      <td>5</td>\n",
              "      <td>3950.202008</td>\n",
              "      <td>1219.555924</td>\n",
              "      <td>27</td>\n",
              "      <td>18</td>\n",
              "      <td>Android</td>\n",
              "    </tr>\n",
              "  </tbody>\n",
              "</table>\n",
              "</div>\n",
              "    <div class=\"colab-df-buttons\">\n",
              "\n",
              "  <div class=\"colab-df-container\">\n",
              "    <button class=\"colab-df-convert\" onclick=\"convertToInteractive('df-2b12eb9b-f91f-41d0-9bc5-1359e67232d2')\"\n",
              "            title=\"Convert this dataframe to an interactive table.\"\n",
              "            style=\"display:none;\">\n",
              "\n",
              "  <svg xmlns=\"http://www.w3.org/2000/svg\" height=\"24px\" viewBox=\"0 -960 960 960\">\n",
              "    <path d=\"M120-120v-720h720v720H120Zm60-500h600v-160H180v160Zm220 220h160v-160H400v160Zm0 220h160v-160H400v160ZM180-400h160v-160H180v160Zm440 0h160v-160H620v160ZM180-180h160v-160H180v160Zm440 0h160v-160H620v160Z\"/>\n",
              "  </svg>\n",
              "    </button>\n",
              "\n",
              "  <style>\n",
              "    .colab-df-container {\n",
              "      display:flex;\n",
              "      gap: 12px;\n",
              "    }\n",
              "\n",
              "    .colab-df-convert {\n",
              "      background-color: #E8F0FE;\n",
              "      border: none;\n",
              "      border-radius: 50%;\n",
              "      cursor: pointer;\n",
              "      display: none;\n",
              "      fill: #1967D2;\n",
              "      height: 32px;\n",
              "      padding: 0 0 0 0;\n",
              "      width: 32px;\n",
              "    }\n",
              "\n",
              "    .colab-df-convert:hover {\n",
              "      background-color: #E2EBFA;\n",
              "      box-shadow: 0px 1px 2px rgba(60, 64, 67, 0.3), 0px 1px 3px 1px rgba(60, 64, 67, 0.15);\n",
              "      fill: #174EA6;\n",
              "    }\n",
              "\n",
              "    .colab-df-buttons div {\n",
              "      margin-bottom: 4px;\n",
              "    }\n",
              "\n",
              "    [theme=dark] .colab-df-convert {\n",
              "      background-color: #3B4455;\n",
              "      fill: #D2E3FC;\n",
              "    }\n",
              "\n",
              "    [theme=dark] .colab-df-convert:hover {\n",
              "      background-color: #434B5C;\n",
              "      box-shadow: 0px 1px 3px 1px rgba(0, 0, 0, 0.15);\n",
              "      filter: drop-shadow(0px 1px 2px rgba(0, 0, 0, 0.3));\n",
              "      fill: #FFFFFF;\n",
              "    }\n",
              "  </style>\n",
              "\n",
              "    <script>\n",
              "      const buttonEl =\n",
              "        document.querySelector('#df-2b12eb9b-f91f-41d0-9bc5-1359e67232d2 button.colab-df-convert');\n",
              "      buttonEl.style.display =\n",
              "        google.colab.kernel.accessAllowed ? 'block' : 'none';\n",
              "\n",
              "      async function convertToInteractive(key) {\n",
              "        const element = document.querySelector('#df-2b12eb9b-f91f-41d0-9bc5-1359e67232d2');\n",
              "        const dataTable =\n",
              "          await google.colab.kernel.invokeFunction('convertToInteractive',\n",
              "                                                    [key], {});\n",
              "        if (!dataTable) return;\n",
              "\n",
              "        const docLinkHtml = 'Like what you see? Visit the ' +\n",
              "          '<a target=\"_blank\" href=https://colab.research.google.com/notebooks/data_table.ipynb>data table notebook</a>'\n",
              "          + ' to learn more about interactive tables.';\n",
              "        element.innerHTML = '';\n",
              "        dataTable['output_type'] = 'display_data';\n",
              "        await google.colab.output.renderOutput(dataTable, element);\n",
              "        const docLink = document.createElement('div');\n",
              "        docLink.innerHTML = docLinkHtml;\n",
              "        element.appendChild(docLink);\n",
              "      }\n",
              "    </script>\n",
              "  </div>\n",
              "\n",
              "\n",
              "<div id=\"df-781bcc1c-a869-432b-bc79-f40282b2fd96\">\n",
              "  <button class=\"colab-df-quickchart\" onclick=\"quickchart('df-781bcc1c-a869-432b-bc79-f40282b2fd96')\"\n",
              "            title=\"Suggest charts\"\n",
              "            style=\"display:none;\">\n",
              "\n",
              "<svg xmlns=\"http://www.w3.org/2000/svg\" height=\"24px\"viewBox=\"0 0 24 24\"\n",
              "     width=\"24px\">\n",
              "    <g>\n",
              "        <path d=\"M19 3H5c-1.1 0-2 .9-2 2v14c0 1.1.9 2 2 2h14c1.1 0 2-.9 2-2V5c0-1.1-.9-2-2-2zM9 17H7v-7h2v7zm4 0h-2V7h2v10zm4 0h-2v-4h2v4z\"/>\n",
              "    </g>\n",
              "</svg>\n",
              "  </button>\n",
              "\n",
              "<style>\n",
              "  .colab-df-quickchart {\n",
              "      --bg-color: #E8F0FE;\n",
              "      --fill-color: #1967D2;\n",
              "      --hover-bg-color: #E2EBFA;\n",
              "      --hover-fill-color: #174EA6;\n",
              "      --disabled-fill-color: #AAA;\n",
              "      --disabled-bg-color: #DDD;\n",
              "  }\n",
              "\n",
              "  [theme=dark] .colab-df-quickchart {\n",
              "      --bg-color: #3B4455;\n",
              "      --fill-color: #D2E3FC;\n",
              "      --hover-bg-color: #434B5C;\n",
              "      --hover-fill-color: #FFFFFF;\n",
              "      --disabled-bg-color: #3B4455;\n",
              "      --disabled-fill-color: #666;\n",
              "  }\n",
              "\n",
              "  .colab-df-quickchart {\n",
              "    background-color: var(--bg-color);\n",
              "    border: none;\n",
              "    border-radius: 50%;\n",
              "    cursor: pointer;\n",
              "    display: none;\n",
              "    fill: var(--fill-color);\n",
              "    height: 32px;\n",
              "    padding: 0;\n",
              "    width: 32px;\n",
              "  }\n",
              "\n",
              "  .colab-df-quickchart:hover {\n",
              "    background-color: var(--hover-bg-color);\n",
              "    box-shadow: 0 1px 2px rgba(60, 64, 67, 0.3), 0 1px 3px 1px rgba(60, 64, 67, 0.15);\n",
              "    fill: var(--button-hover-fill-color);\n",
              "  }\n",
              "\n",
              "  .colab-df-quickchart-complete:disabled,\n",
              "  .colab-df-quickchart-complete:disabled:hover {\n",
              "    background-color: var(--disabled-bg-color);\n",
              "    fill: var(--disabled-fill-color);\n",
              "    box-shadow: none;\n",
              "  }\n",
              "\n",
              "  .colab-df-spinner {\n",
              "    border: 2px solid var(--fill-color);\n",
              "    border-color: transparent;\n",
              "    border-bottom-color: var(--fill-color);\n",
              "    animation:\n",
              "      spin 1s steps(1) infinite;\n",
              "  }\n",
              "\n",
              "  @keyframes spin {\n",
              "    0% {\n",
              "      border-color: transparent;\n",
              "      border-bottom-color: var(--fill-color);\n",
              "      border-left-color: var(--fill-color);\n",
              "    }\n",
              "    20% {\n",
              "      border-color: transparent;\n",
              "      border-left-color: var(--fill-color);\n",
              "      border-top-color: var(--fill-color);\n",
              "    }\n",
              "    30% {\n",
              "      border-color: transparent;\n",
              "      border-left-color: var(--fill-color);\n",
              "      border-top-color: var(--fill-color);\n",
              "      border-right-color: var(--fill-color);\n",
              "    }\n",
              "    40% {\n",
              "      border-color: transparent;\n",
              "      border-right-color: var(--fill-color);\n",
              "      border-top-color: var(--fill-color);\n",
              "    }\n",
              "    60% {\n",
              "      border-color: transparent;\n",
              "      border-right-color: var(--fill-color);\n",
              "    }\n",
              "    80% {\n",
              "      border-color: transparent;\n",
              "      border-right-color: var(--fill-color);\n",
              "      border-bottom-color: var(--fill-color);\n",
              "    }\n",
              "    90% {\n",
              "      border-color: transparent;\n",
              "      border-bottom-color: var(--fill-color);\n",
              "    }\n",
              "  }\n",
              "</style>\n",
              "\n",
              "  <script>\n",
              "    async function quickchart(key) {\n",
              "      const quickchartButtonEl =\n",
              "        document.querySelector('#' + key + ' button');\n",
              "      quickchartButtonEl.disabled = true;  // To prevent multiple clicks.\n",
              "      quickchartButtonEl.classList.add('colab-df-spinner');\n",
              "      try {\n",
              "        const charts = await google.colab.kernel.invokeFunction(\n",
              "            'suggestCharts', [key], {});\n",
              "      } catch (error) {\n",
              "        console.error('Error during call to suggestCharts:', error);\n",
              "      }\n",
              "      quickchartButtonEl.classList.remove('colab-df-spinner');\n",
              "      quickchartButtonEl.classList.add('colab-df-quickchart-complete');\n",
              "    }\n",
              "    (() => {\n",
              "      let quickchartButtonEl =\n",
              "        document.querySelector('#df-781bcc1c-a869-432b-bc79-f40282b2fd96 button');\n",
              "      quickchartButtonEl.style.display =\n",
              "        google.colab.kernel.accessAllowed ? 'block' : 'none';\n",
              "    })();\n",
              "  </script>\n",
              "</div>\n",
              "\n",
              "    </div>\n",
              "  </div>\n"
            ]
          },
          "metadata": {},
          "execution_count": 6
        }
      ],
      "source": [
        "df.head()"
      ]
    },
    {
      "cell_type": "code",
      "execution_count": 7,
      "metadata": {
        "id": "S3tza5fNfIMo",
        "colab": {
          "base_uri": "https://localhost:8080/"
        },
        "outputId": "5d325873-7cd7-4389-9696-3ee7165a7ad4"
      },
      "outputs": [
        {
          "output_type": "execute_result",
          "data": {
            "text/plain": [
              "194987"
            ]
          },
          "metadata": {},
          "execution_count": 7
        }
      ],
      "source": [
        "df.size"
      ]
    },
    {
      "cell_type": "markdown",
      "metadata": {
        "id": "WulP4lZ9UVgy"
      },
      "source": [
        "Generate summary statistics using the `describe()` method."
      ]
    },
    {
      "cell_type": "code",
      "execution_count": 8,
      "metadata": {
        "id": "fhPkaaqDR99b",
        "colab": {
          "base_uri": "https://localhost:8080/",
          "height": 320
        },
        "outputId": "6e689c0a-1421-4ad8-faff-8980d9fe9c12"
      },
      "outputs": [
        {
          "output_type": "execute_result",
          "data": {
            "text/plain": [
              "                 ID      sessions        drives  total_sessions  \\\n",
              "count  14999.000000  14999.000000  14999.000000    14999.000000   \n",
              "mean    7499.000000     80.633776     67.281152      189.964447   \n",
              "std     4329.982679     80.699065     65.913872      136.405128   \n",
              "min        0.000000      0.000000      0.000000        0.220211   \n",
              "25%     3749.500000     23.000000     20.000000       90.661156   \n",
              "50%     7499.000000     56.000000     48.000000      159.568115   \n",
              "75%    11248.500000    112.000000     93.000000      254.192341   \n",
              "max    14998.000000    743.000000    596.000000     1216.154633   \n",
              "\n",
              "       n_days_after_onboarding  total_navigations_fav1  \\\n",
              "count             14999.000000            14999.000000   \n",
              "mean               1749.837789              121.605974   \n",
              "std                1008.513876              148.121544   \n",
              "min                   4.000000                0.000000   \n",
              "25%                 878.000000                9.000000   \n",
              "50%                1741.000000               71.000000   \n",
              "75%                2623.500000              178.000000   \n",
              "max                3500.000000             1236.000000   \n",
              "\n",
              "       total_navigations_fav2  driven_km_drives  duration_minutes_drives  \\\n",
              "count            14999.000000      14999.000000             14999.000000   \n",
              "mean                29.672512       4039.340921              1860.976012   \n",
              "std                 45.394651       2502.149334              1446.702288   \n",
              "min                  0.000000         60.441250                18.282082   \n",
              "25%                  0.000000       2212.600607               835.996260   \n",
              "50%                  9.000000       3493.858085              1478.249859   \n",
              "75%                 43.000000       5289.861262              2464.362632   \n",
              "max                415.000000      21183.401890             15851.727160   \n",
              "\n",
              "       activity_days  driving_days  \n",
              "count   14999.000000  14999.000000  \n",
              "mean       15.537102     12.179879  \n",
              "std         9.004655      7.824036  \n",
              "min         0.000000      0.000000  \n",
              "25%         8.000000      5.000000  \n",
              "50%        16.000000     12.000000  \n",
              "75%        23.000000     19.000000  \n",
              "max        31.000000     30.000000  "
            ],
            "text/html": [
              "\n",
              "  <div id=\"df-d79ce919-ac69-40fe-b3f2-989afd7d1b08\" class=\"colab-df-container\">\n",
              "    <div>\n",
              "<style scoped>\n",
              "    .dataframe tbody tr th:only-of-type {\n",
              "        vertical-align: middle;\n",
              "    }\n",
              "\n",
              "    .dataframe tbody tr th {\n",
              "        vertical-align: top;\n",
              "    }\n",
              "\n",
              "    .dataframe thead th {\n",
              "        text-align: right;\n",
              "    }\n",
              "</style>\n",
              "<table border=\"1\" class=\"dataframe\">\n",
              "  <thead>\n",
              "    <tr style=\"text-align: right;\">\n",
              "      <th></th>\n",
              "      <th>ID</th>\n",
              "      <th>sessions</th>\n",
              "      <th>drives</th>\n",
              "      <th>total_sessions</th>\n",
              "      <th>n_days_after_onboarding</th>\n",
              "      <th>total_navigations_fav1</th>\n",
              "      <th>total_navigations_fav2</th>\n",
              "      <th>driven_km_drives</th>\n",
              "      <th>duration_minutes_drives</th>\n",
              "      <th>activity_days</th>\n",
              "      <th>driving_days</th>\n",
              "    </tr>\n",
              "  </thead>\n",
              "  <tbody>\n",
              "    <tr>\n",
              "      <th>count</th>\n",
              "      <td>14999.000000</td>\n",
              "      <td>14999.000000</td>\n",
              "      <td>14999.000000</td>\n",
              "      <td>14999.000000</td>\n",
              "      <td>14999.000000</td>\n",
              "      <td>14999.000000</td>\n",
              "      <td>14999.000000</td>\n",
              "      <td>14999.000000</td>\n",
              "      <td>14999.000000</td>\n",
              "      <td>14999.000000</td>\n",
              "      <td>14999.000000</td>\n",
              "    </tr>\n",
              "    <tr>\n",
              "      <th>mean</th>\n",
              "      <td>7499.000000</td>\n",
              "      <td>80.633776</td>\n",
              "      <td>67.281152</td>\n",
              "      <td>189.964447</td>\n",
              "      <td>1749.837789</td>\n",
              "      <td>121.605974</td>\n",
              "      <td>29.672512</td>\n",
              "      <td>4039.340921</td>\n",
              "      <td>1860.976012</td>\n",
              "      <td>15.537102</td>\n",
              "      <td>12.179879</td>\n",
              "    </tr>\n",
              "    <tr>\n",
              "      <th>std</th>\n",
              "      <td>4329.982679</td>\n",
              "      <td>80.699065</td>\n",
              "      <td>65.913872</td>\n",
              "      <td>136.405128</td>\n",
              "      <td>1008.513876</td>\n",
              "      <td>148.121544</td>\n",
              "      <td>45.394651</td>\n",
              "      <td>2502.149334</td>\n",
              "      <td>1446.702288</td>\n",
              "      <td>9.004655</td>\n",
              "      <td>7.824036</td>\n",
              "    </tr>\n",
              "    <tr>\n",
              "      <th>min</th>\n",
              "      <td>0.000000</td>\n",
              "      <td>0.000000</td>\n",
              "      <td>0.000000</td>\n",
              "      <td>0.220211</td>\n",
              "      <td>4.000000</td>\n",
              "      <td>0.000000</td>\n",
              "      <td>0.000000</td>\n",
              "      <td>60.441250</td>\n",
              "      <td>18.282082</td>\n",
              "      <td>0.000000</td>\n",
              "      <td>0.000000</td>\n",
              "    </tr>\n",
              "    <tr>\n",
              "      <th>25%</th>\n",
              "      <td>3749.500000</td>\n",
              "      <td>23.000000</td>\n",
              "      <td>20.000000</td>\n",
              "      <td>90.661156</td>\n",
              "      <td>878.000000</td>\n",
              "      <td>9.000000</td>\n",
              "      <td>0.000000</td>\n",
              "      <td>2212.600607</td>\n",
              "      <td>835.996260</td>\n",
              "      <td>8.000000</td>\n",
              "      <td>5.000000</td>\n",
              "    </tr>\n",
              "    <tr>\n",
              "      <th>50%</th>\n",
              "      <td>7499.000000</td>\n",
              "      <td>56.000000</td>\n",
              "      <td>48.000000</td>\n",
              "      <td>159.568115</td>\n",
              "      <td>1741.000000</td>\n",
              "      <td>71.000000</td>\n",
              "      <td>9.000000</td>\n",
              "      <td>3493.858085</td>\n",
              "      <td>1478.249859</td>\n",
              "      <td>16.000000</td>\n",
              "      <td>12.000000</td>\n",
              "    </tr>\n",
              "    <tr>\n",
              "      <th>75%</th>\n",
              "      <td>11248.500000</td>\n",
              "      <td>112.000000</td>\n",
              "      <td>93.000000</td>\n",
              "      <td>254.192341</td>\n",
              "      <td>2623.500000</td>\n",
              "      <td>178.000000</td>\n",
              "      <td>43.000000</td>\n",
              "      <td>5289.861262</td>\n",
              "      <td>2464.362632</td>\n",
              "      <td>23.000000</td>\n",
              "      <td>19.000000</td>\n",
              "    </tr>\n",
              "    <tr>\n",
              "      <th>max</th>\n",
              "      <td>14998.000000</td>\n",
              "      <td>743.000000</td>\n",
              "      <td>596.000000</td>\n",
              "      <td>1216.154633</td>\n",
              "      <td>3500.000000</td>\n",
              "      <td>1236.000000</td>\n",
              "      <td>415.000000</td>\n",
              "      <td>21183.401890</td>\n",
              "      <td>15851.727160</td>\n",
              "      <td>31.000000</td>\n",
              "      <td>30.000000</td>\n",
              "    </tr>\n",
              "  </tbody>\n",
              "</table>\n",
              "</div>\n",
              "    <div class=\"colab-df-buttons\">\n",
              "\n",
              "  <div class=\"colab-df-container\">\n",
              "    <button class=\"colab-df-convert\" onclick=\"convertToInteractive('df-d79ce919-ac69-40fe-b3f2-989afd7d1b08')\"\n",
              "            title=\"Convert this dataframe to an interactive table.\"\n",
              "            style=\"display:none;\">\n",
              "\n",
              "  <svg xmlns=\"http://www.w3.org/2000/svg\" height=\"24px\" viewBox=\"0 -960 960 960\">\n",
              "    <path d=\"M120-120v-720h720v720H120Zm60-500h600v-160H180v160Zm220 220h160v-160H400v160Zm0 220h160v-160H400v160ZM180-400h160v-160H180v160Zm440 0h160v-160H620v160ZM180-180h160v-160H180v160Zm440 0h160v-160H620v160Z\"/>\n",
              "  </svg>\n",
              "    </button>\n",
              "\n",
              "  <style>\n",
              "    .colab-df-container {\n",
              "      display:flex;\n",
              "      gap: 12px;\n",
              "    }\n",
              "\n",
              "    .colab-df-convert {\n",
              "      background-color: #E8F0FE;\n",
              "      border: none;\n",
              "      border-radius: 50%;\n",
              "      cursor: pointer;\n",
              "      display: none;\n",
              "      fill: #1967D2;\n",
              "      height: 32px;\n",
              "      padding: 0 0 0 0;\n",
              "      width: 32px;\n",
              "    }\n",
              "\n",
              "    .colab-df-convert:hover {\n",
              "      background-color: #E2EBFA;\n",
              "      box-shadow: 0px 1px 2px rgba(60, 64, 67, 0.3), 0px 1px 3px 1px rgba(60, 64, 67, 0.15);\n",
              "      fill: #174EA6;\n",
              "    }\n",
              "\n",
              "    .colab-df-buttons div {\n",
              "      margin-bottom: 4px;\n",
              "    }\n",
              "\n",
              "    [theme=dark] .colab-df-convert {\n",
              "      background-color: #3B4455;\n",
              "      fill: #D2E3FC;\n",
              "    }\n",
              "\n",
              "    [theme=dark] .colab-df-convert:hover {\n",
              "      background-color: #434B5C;\n",
              "      box-shadow: 0px 1px 3px 1px rgba(0, 0, 0, 0.15);\n",
              "      filter: drop-shadow(0px 1px 2px rgba(0, 0, 0, 0.3));\n",
              "      fill: #FFFFFF;\n",
              "    }\n",
              "  </style>\n",
              "\n",
              "    <script>\n",
              "      const buttonEl =\n",
              "        document.querySelector('#df-d79ce919-ac69-40fe-b3f2-989afd7d1b08 button.colab-df-convert');\n",
              "      buttonEl.style.display =\n",
              "        google.colab.kernel.accessAllowed ? 'block' : 'none';\n",
              "\n",
              "      async function convertToInteractive(key) {\n",
              "        const element = document.querySelector('#df-d79ce919-ac69-40fe-b3f2-989afd7d1b08');\n",
              "        const dataTable =\n",
              "          await google.colab.kernel.invokeFunction('convertToInteractive',\n",
              "                                                    [key], {});\n",
              "        if (!dataTable) return;\n",
              "\n",
              "        const docLinkHtml = 'Like what you see? Visit the ' +\n",
              "          '<a target=\"_blank\" href=https://colab.research.google.com/notebooks/data_table.ipynb>data table notebook</a>'\n",
              "          + ' to learn more about interactive tables.';\n",
              "        element.innerHTML = '';\n",
              "        dataTable['output_type'] = 'display_data';\n",
              "        await google.colab.output.renderOutput(dataTable, element);\n",
              "        const docLink = document.createElement('div');\n",
              "        docLink.innerHTML = docLinkHtml;\n",
              "        element.appendChild(docLink);\n",
              "      }\n",
              "    </script>\n",
              "  </div>\n",
              "\n",
              "\n",
              "<div id=\"df-1e0687db-0001-4948-afa5-7a94c358c9d5\">\n",
              "  <button class=\"colab-df-quickchart\" onclick=\"quickchart('df-1e0687db-0001-4948-afa5-7a94c358c9d5')\"\n",
              "            title=\"Suggest charts\"\n",
              "            style=\"display:none;\">\n",
              "\n",
              "<svg xmlns=\"http://www.w3.org/2000/svg\" height=\"24px\"viewBox=\"0 0 24 24\"\n",
              "     width=\"24px\">\n",
              "    <g>\n",
              "        <path d=\"M19 3H5c-1.1 0-2 .9-2 2v14c0 1.1.9 2 2 2h14c1.1 0 2-.9 2-2V5c0-1.1-.9-2-2-2zM9 17H7v-7h2v7zm4 0h-2V7h2v10zm4 0h-2v-4h2v4z\"/>\n",
              "    </g>\n",
              "</svg>\n",
              "  </button>\n",
              "\n",
              "<style>\n",
              "  .colab-df-quickchart {\n",
              "      --bg-color: #E8F0FE;\n",
              "      --fill-color: #1967D2;\n",
              "      --hover-bg-color: #E2EBFA;\n",
              "      --hover-fill-color: #174EA6;\n",
              "      --disabled-fill-color: #AAA;\n",
              "      --disabled-bg-color: #DDD;\n",
              "  }\n",
              "\n",
              "  [theme=dark] .colab-df-quickchart {\n",
              "      --bg-color: #3B4455;\n",
              "      --fill-color: #D2E3FC;\n",
              "      --hover-bg-color: #434B5C;\n",
              "      --hover-fill-color: #FFFFFF;\n",
              "      --disabled-bg-color: #3B4455;\n",
              "      --disabled-fill-color: #666;\n",
              "  }\n",
              "\n",
              "  .colab-df-quickchart {\n",
              "    background-color: var(--bg-color);\n",
              "    border: none;\n",
              "    border-radius: 50%;\n",
              "    cursor: pointer;\n",
              "    display: none;\n",
              "    fill: var(--fill-color);\n",
              "    height: 32px;\n",
              "    padding: 0;\n",
              "    width: 32px;\n",
              "  }\n",
              "\n",
              "  .colab-df-quickchart:hover {\n",
              "    background-color: var(--hover-bg-color);\n",
              "    box-shadow: 0 1px 2px rgba(60, 64, 67, 0.3), 0 1px 3px 1px rgba(60, 64, 67, 0.15);\n",
              "    fill: var(--button-hover-fill-color);\n",
              "  }\n",
              "\n",
              "  .colab-df-quickchart-complete:disabled,\n",
              "  .colab-df-quickchart-complete:disabled:hover {\n",
              "    background-color: var(--disabled-bg-color);\n",
              "    fill: var(--disabled-fill-color);\n",
              "    box-shadow: none;\n",
              "  }\n",
              "\n",
              "  .colab-df-spinner {\n",
              "    border: 2px solid var(--fill-color);\n",
              "    border-color: transparent;\n",
              "    border-bottom-color: var(--fill-color);\n",
              "    animation:\n",
              "      spin 1s steps(1) infinite;\n",
              "  }\n",
              "\n",
              "  @keyframes spin {\n",
              "    0% {\n",
              "      border-color: transparent;\n",
              "      border-bottom-color: var(--fill-color);\n",
              "      border-left-color: var(--fill-color);\n",
              "    }\n",
              "    20% {\n",
              "      border-color: transparent;\n",
              "      border-left-color: var(--fill-color);\n",
              "      border-top-color: var(--fill-color);\n",
              "    }\n",
              "    30% {\n",
              "      border-color: transparent;\n",
              "      border-left-color: var(--fill-color);\n",
              "      border-top-color: var(--fill-color);\n",
              "      border-right-color: var(--fill-color);\n",
              "    }\n",
              "    40% {\n",
              "      border-color: transparent;\n",
              "      border-right-color: var(--fill-color);\n",
              "      border-top-color: var(--fill-color);\n",
              "    }\n",
              "    60% {\n",
              "      border-color: transparent;\n",
              "      border-right-color: var(--fill-color);\n",
              "    }\n",
              "    80% {\n",
              "      border-color: transparent;\n",
              "      border-right-color: var(--fill-color);\n",
              "      border-bottom-color: var(--fill-color);\n",
              "    }\n",
              "    90% {\n",
              "      border-color: transparent;\n",
              "      border-bottom-color: var(--fill-color);\n",
              "    }\n",
              "  }\n",
              "</style>\n",
              "\n",
              "  <script>\n",
              "    async function quickchart(key) {\n",
              "      const quickchartButtonEl =\n",
              "        document.querySelector('#' + key + ' button');\n",
              "      quickchartButtonEl.disabled = true;  // To prevent multiple clicks.\n",
              "      quickchartButtonEl.classList.add('colab-df-spinner');\n",
              "      try {\n",
              "        const charts = await google.colab.kernel.invokeFunction(\n",
              "            'suggestCharts', [key], {});\n",
              "      } catch (error) {\n",
              "        console.error('Error during call to suggestCharts:', error);\n",
              "      }\n",
              "      quickchartButtonEl.classList.remove('colab-df-spinner');\n",
              "      quickchartButtonEl.classList.add('colab-df-quickchart-complete');\n",
              "    }\n",
              "    (() => {\n",
              "      let quickchartButtonEl =\n",
              "        document.querySelector('#df-1e0687db-0001-4948-afa5-7a94c358c9d5 button');\n",
              "      quickchartButtonEl.style.display =\n",
              "        google.colab.kernel.accessAllowed ? 'block' : 'none';\n",
              "    })();\n",
              "  </script>\n",
              "</div>\n",
              "\n",
              "    </div>\n",
              "  </div>\n"
            ]
          },
          "metadata": {},
          "execution_count": 8
        }
      ],
      "source": [
        "df.describe()"
      ]
    },
    {
      "cell_type": "markdown",
      "metadata": {
        "id": "psmn0VD0UWBk"
      },
      "source": [
        "And summary information using the `info()` method."
      ]
    },
    {
      "cell_type": "code",
      "execution_count": 9,
      "metadata": {
        "id": "Thlb8oiyUPwe",
        "colab": {
          "base_uri": "https://localhost:8080/"
        },
        "outputId": "6df9054c-d6da-421f-9e89-0e953a8d07e1"
      },
      "outputs": [
        {
          "output_type": "stream",
          "name": "stdout",
          "text": [
            "<class 'pandas.core.frame.DataFrame'>\n",
            "RangeIndex: 14999 entries, 0 to 14998\n",
            "Data columns (total 13 columns):\n",
            " #   Column                   Non-Null Count  Dtype  \n",
            "---  ------                   --------------  -----  \n",
            " 0   ID                       14999 non-null  int64  \n",
            " 1   label                    14299 non-null  object \n",
            " 2   sessions                 14999 non-null  int64  \n",
            " 3   drives                   14999 non-null  int64  \n",
            " 4   total_sessions           14999 non-null  float64\n",
            " 5   n_days_after_onboarding  14999 non-null  int64  \n",
            " 6   total_navigations_fav1   14999 non-null  int64  \n",
            " 7   total_navigations_fav2   14999 non-null  int64  \n",
            " 8   driven_km_drives         14999 non-null  float64\n",
            " 9   duration_minutes_drives  14999 non-null  float64\n",
            " 10  activity_days            14999 non-null  int64  \n",
            " 11  driving_days             14999 non-null  int64  \n",
            " 12  device                   14999 non-null  object \n",
            "dtypes: float64(3), int64(8), object(2)\n",
            "memory usage: 1.5+ MB\n"
          ]
        }
      ],
      "source": [
        "df.info()"
      ]
    },
    {
      "cell_type": "markdown",
      "metadata": {
        "id": "f0sHpfkhx8GM"
      },
      "source": [
        "<img src=\"images/Construct.png\" width=\"100\" height=\"100\" align=left>\n",
        "\n",
        "## **PACE: Construct**\n",
        "\n",
        "Consider the questions in your PACE Strategy Document to reflect on the Construct stage."
      ]
    },
    {
      "cell_type": "markdown",
      "metadata": {
        "id": "zXjMMPoARVPm"
      },
      "source": [
        "Consider the following questions as you prepare to deal with outliers:\n",
        "\n",
        "1.   What are some ways to identify outliers?\n",
        "2.   How do you make the decision to keep or exclude outliers from any future models?"
      ]
    },
    {
      "cell_type": "markdown",
      "metadata": {
        "id": "AHln5I2ERjAn"
      },
      "source": [
        "==> ENTER YOUR RESPONSES TO QUESTIONS 1-2 HERE\n",
        "\n",
        "1. I can use the numpy library to investigate the dataset using mean() and median() to find outliers.\n",
        "    After I can use a boxplot to visualize the distribution of the data.\n",
        "    \n",
        "2."
      ]
    },
    {
      "cell_type": "markdown",
      "metadata": {
        "id": "BYWkZ4i3wgv4"
      },
      "source": [
        "### **Task 3a. Visualizations**\n",
        "\n",
        "Select data visualization types that will help you understand and explain the data.\n",
        "\n",
        "Now that you know which data columns you’ll use, it is time to decide which data visualization makes the most sense for EDA of the Waze dataset.\n",
        "\n",
        "**Question:** What type of data visualization(s) will be most helpful?\n",
        "\n",
        "* Line graph\n",
        "* Bar chart\n",
        "* Box plot\n",
        "* Histogram\n",
        "* Heat map\n",
        "* Scatter plot\n",
        "* A geographic map\n",
        "\n"
      ]
    },
    {
      "cell_type": "markdown",
      "metadata": {
        "id": "rYYgT9kMQiNF"
      },
      "source": [
        "Box plots will be helpful to determine outliers and where the bulk of the data points reside in terms of drives, sessions and all other continuous numeric variables\n",
        "Histograms are essential to understand the distribution of variables\n",
        "Scatter plots will be helpful to visualize relationships between variables\n",
        "Bar charts are useful for communicating levels and quantities, especially for categorical information"
      ]
    },
    {
      "cell_type": "markdown",
      "metadata": {
        "id": "TuWr3WWPQsi0"
      },
      "source": [
        "Begin by examining the spread and distribution of important variables using box plots and histograms."
      ]
    },
    {
      "cell_type": "markdown",
      "metadata": {
        "id": "5-vBw2wpSn0g"
      },
      "source": [
        "#### **`sessions`**\n",
        "\n",
        "_The number of occurrence of a user opening the app during the month_"
      ]
    },
    {
      "cell_type": "code",
      "execution_count": 10,
      "metadata": {
        "id": "9K6Alb7uc9my",
        "colab": {
          "base_uri": "https://localhost:8080/",
          "height": 197
        },
        "outputId": "b388a8f8-8c1f-4611-9750-ba31ecf53f89"
      },
      "outputs": [
        {
          "output_type": "execute_result",
          "data": {
            "text/plain": [
              "Text(0.5, 1.0, 'sessions box plot')"
            ]
          },
          "metadata": {},
          "execution_count": 10
        },
        {
          "output_type": "display_data",
          "data": {
            "text/plain": [
              "<Figure size 500x100 with 1 Axes>"
            ],
            "image/png": "[encoded data removed]"
          },
          "metadata": {}
        }
      ],
      "source": [
        "# Box plot\n",
        "plt.figure(figsize=(5,1))\n",
        "sns.boxplot(x=df['sessions'], fliersize=1)\n",
        "plt.title('sessions box plot')\n"
      ]
    },
    {
      "cell_type": "code",
      "execution_count": 11,
      "metadata": {
        "id": "1YC9xCrrcvw-",
        "colab": {
          "base_uri": "https://localhost:8080/",
          "height": 333
        },
        "outputId": "1a3b01ac-959e-46f6-ae67-05e9c78f70a4"
      },
      "outputs": [
        {
          "output_type": "display_data",
          "data": {
            "text/plain": [
              "<Figure size 500x300 with 1 Axes>"
            ],
            "image/png": "[encoded data removed]"
          },
          "metadata": {}
        }
      ],
      "source": [
        "# Histogram\n",
        "plt.figure(figsize=(5,3))\n",
        "sns.histplot(x=df['sessions'])\n",
        "median = df['sessions'].median()\n",
        "plt.axvline(median, color='red', linestyle='--')\n",
        "plt.text(75,1200, 'median=56.0', color='red')\n",
        "plt.title('sessions box plot');"
      ]
    },
    {
      "cell_type": "markdown",
      "metadata": {
        "id": "PKnZDIgDS2gV"
      },
      "source": [
        "The `sessions` variable is a right-skewed distribution with half of the observations having 56 or fewer sessions. However, as indicated by the boxplot, some users have more than 700."
      ]
    },
    {
      "cell_type": "markdown",
      "metadata": {
        "id": "VSBCTrrjdpnn"
      },
      "source": [
        "#### **`drives`**\n",
        "\n",
        "_An occurrence of driving at least 1 km during the month_"
      ]
    },
    {
      "cell_type": "code",
      "execution_count": 12,
      "metadata": {
        "id": "WKEGh-a3yF9K",
        "colab": {
          "base_uri": "https://localhost:8080/",
          "height": 179
        },
        "outputId": "1e943c3c-211b-4503-d7f1-e128e92029af"
      },
      "outputs": [
        {
          "output_type": "display_data",
          "data": {
            "text/plain": [
              "<Figure size 500x100 with 1 Axes>"
            ],
            "image/png": "[encoded data removed]"
          },
          "metadata": {}
        }
      ],
      "source": [
        "# Box plot\n",
        "plt.figure(figsize=(5,1))\n",
        "sns.boxplot(x=df['drives'], fliersize=1)\n",
        "plt.title('drives box plot');\n"
      ]
    },
    {
      "cell_type": "code",
      "execution_count": 13,
      "metadata": {
        "id": "NtpxgGQpQ7g9"
      },
      "outputs": [],
      "source": [
        "# Histogram\n",
        "def histogrammer(column_str, median_text=True, **kwargs):    # **kwargs = any keyword arguments\n",
        "                                                             # from the sns.histplot() function\n",
        "    median=round(df[column_str].median(), 1)\n",
        "    plt.figure(figsize=(5,3))\n",
        "    ax = sns.histplot(x=df[column_str], **kwargs)            # Plot the histogram\n",
        "    plt.axvline(median, color='red', linestyle='--')         # Plot the median line\n",
        "    if median_text==True:                                    # Add median text unless set to False\n",
        "        ax.text(0.25, 0.85, f'median={median}', color='red',\n",
        "            ha='left', va='top', transform=ax.transAxes)\n",
        "    else:\n",
        "        print('Median:', median)\n",
        "    plt.title(f'{column_str} histogram');\n"
      ]
    },
    {
      "cell_type": "code",
      "source": [
        "# Histogram\n",
        "histogrammer('drives')"
      ],
      "metadata": {
        "colab": {
          "base_uri": "https://localhost:8080/",
          "height": 333
        },
        "id": "pv-Tp4w5D0w7",
        "outputId": "9c35639c-930f-4fb3-fb3b-a7c3e5715b57"
      },
      "execution_count": 14,
      "outputs": [
        {
          "output_type": "display_data",
          "data": {
            "text/plain": [
              "<Figure size 500x300 with 1 Axes>"
            ],
            "image/png": "[encoded data removed]"
          },
          "metadata": {}
        }
      ]
    },
    {
      "cell_type": "markdown",
      "metadata": {
        "id": "SVhzvyNCedL8"
      },
      "source": [
        "The `drives` information follows a distribution similar to the `sessions` variable. It is right-skewed, approximately log-normal, with a median of 48. However, some drivers had over 400 drives in the last month."
      ]
    },
    {
      "cell_type": "markdown",
      "metadata": {
        "id": "M-RvjOHhehOI"
      },
      "source": [
        "#### **`total_sessions`**\n",
        "\n",
        "_A model estimate of the total number of sessions since a user has onboarded_"
      ]
    },
    {
      "cell_type": "code",
      "execution_count": 15,
      "metadata": {
        "id": "ZCC9MHhOQ7Sc",
        "colab": {
          "base_uri": "https://localhost:8080/",
          "height": 179
        },
        "outputId": "1ab941d2-62e9-430d-9375-eeaa441e766e"
      },
      "outputs": [
        {
          "output_type": "display_data",
          "data": {
            "text/plain": [
              "<Figure size 500x100 with 1 Axes>"
            ],
            "image/png": "[encoded data removed]"
          },
          "metadata": {}
        }
      ],
      "source": [
        "# Box plot\n",
        "plt.figure(figsize=(5,1))\n",
        "sns.boxplot(x=df['total_sessions'], fliersize=1)\n",
        "plt.title('total_sessions box plot');\n"
      ]
    },
    {
      "cell_type": "code",
      "execution_count": 16,
      "metadata": {
        "id": "p5-UmoBzdrTW",
        "colab": {
          "base_uri": "https://localhost:8080/",
          "height": 333
        },
        "outputId": "abf274d5-246e-41d2-fcf0-fe3420f8280d"
      },
      "outputs": [
        {
          "output_type": "display_data",
          "data": {
            "text/plain": [
              "<Figure size 500x300 with 1 Axes>"
            ],
            "image/png": "[encoded data removed]"
          },
          "metadata": {}
        }
      ],
      "source": [
        "# Histogram\n",
        "histogrammer('total_sessions')"
      ]
    },
    {
      "cell_type": "markdown",
      "metadata": {
        "id": "3i77iZf_etQd"
      },
      "source": [
        "The `total_sessions` is a right-skewed distribution. The median total number of sessions is 159.6. This is interesting information because, if the median number of sessions in the last month was 48 and the median total sessions was ~160, then it seems that a large proportion of a user's total drives might have taken place in the last month. This is something you can examine more closely later."
      ]
    },
    {
      "cell_type": "markdown",
      "metadata": {
        "id": "0sfXzD_eexBm"
      },
      "source": [
        "#### **`n_days_after_onboarding`**\n",
        "\n",
        "_The number of days since a user signed up for the app_"
      ]
    },
    {
      "cell_type": "code",
      "execution_count": 17,
      "metadata": {
        "id": "PGfs6rpEdq-R",
        "colab": {
          "base_uri": "https://localhost:8080/",
          "height": 179
        },
        "outputId": "c6b13ad0-9ef8-4c37-fc12-3f4410b90cff"
      },
      "outputs": [
        {
          "output_type": "display_data",
          "data": {
            "text/plain": [
              "<Figure size 500x100 with 1 Axes>"
            ],
            "image/png": "[encoded data removed]"
          },
          "metadata": {}
        }
      ],
      "source": [
        "# Box plot\n",
        "plt.figure(figsize=(5,1))\n",
        "sns.boxplot(x=df['n_days_after_onboarding'], fliersize=1)\n",
        "plt.title('n_days_after_onboarding box plot');"
      ]
    },
    {
      "cell_type": "code",
      "execution_count": 47,
      "metadata": {
        "id": "oqzA9IxRdqr1",
        "colab": {
          "base_uri": "https://localhost:8080/",
          "height": 351
        },
        "outputId": "86c89405-6f76-4c07-d829-17a64e97ef5a"
      },
      "outputs": [
        {
          "output_type": "stream",
          "name": "stdout",
          "text": [
            "Median: 1741.0\n"
          ]
        },
        {
          "output_type": "display_data",
          "data": {
            "text/plain": [
              "<Figure size 500x300 with 1 Axes>"
            ],
            "image/png": "[encoded data removed]"
          },
          "metadata": {}
        }
      ],
      "source": [
        "# Histogram\n",
        "histogrammer('n_days_after_onboarding', median_text=False, color='yellow')"
      ]
    },
    {
      "cell_type": "markdown",
      "metadata": {
        "id": "wFNDAX4_e6aT"
      },
      "source": [
        "The total user tenure (i.e., number of days since\n",
        "onboarding) is a uniform distribution with values ranging from near-zero to \\~3,500 (\\~9.5 years)."
      ]
    },
    {
      "cell_type": "markdown",
      "metadata": {
        "id": "x1QO1Id8e7Oj"
      },
      "source": [
        "#### **`driven_km_drives`**\n",
        "\n",
        "_Total kilometers driven during the month_"
      ]
    },
    {
      "cell_type": "code",
      "execution_count": 19,
      "metadata": {
        "id": "JytUB830dv61",
        "colab": {
          "base_uri": "https://localhost:8080/",
          "height": 179
        },
        "outputId": "e9c07a33-e20a-4de3-829f-8d3951f144a1"
      },
      "outputs": [
        {
          "output_type": "display_data",
          "data": {
            "text/plain": [
              "<Figure size 500x100 with 1 Axes>"
            ],
            "image/png": "[encoded data removed]"
          },
          "metadata": {}
        }
      ],
      "source": [
        "# Box plot\n",
        "plt.figure(figsize=(5,1))\n",
        "sns.boxplot(x=df['driven_km_drives'], fliersize=1, color='yellow')\n",
        "plt.title('driven_km_drives box plot');"
      ]
    },
    {
      "cell_type": "code",
      "execution_count": 48,
      "metadata": {
        "id": "X3tD7KmhfBz8",
        "colab": {
          "base_uri": "https://localhost:8080/",
          "height": 333
        },
        "outputId": "986134e0-1197-46bc-e144-d0af5f2bc10c"
      },
      "outputs": [
        {
          "output_type": "display_data",
          "data": {
            "text/plain": [
              "<Figure size 500x300 with 1 Axes>"
            ],
            "image/png": "[encoded data removed]"
          },
          "metadata": {}
        }
      ],
      "source": [
        "# Histogram\n",
        "histogrammer('driven_km_drives', color='yellow')"
      ]
    },
    {
      "cell_type": "markdown",
      "metadata": {
        "id": "qmj8rhs1fFsD"
      },
      "source": [
        "The number of drives driven in the last month per user is a right-skewed distribution with half the users driving under 3,495 kilometers. As you discovered in the analysis from the previous course, the users in this dataset drive _a lot_. The longest distance driven in the month was over half the circumferene of the earth."
      ]
    },
    {
      "cell_type": "markdown",
      "metadata": {
        "id": "UUAqCCtTfGbJ"
      },
      "source": [
        "#### **`duration_minutes_drives`**\n",
        "\n",
        "_Total duration driven in minutes during the month_"
      ]
    },
    {
      "cell_type": "code",
      "execution_count": 50,
      "metadata": {
        "id": "ElNBoyu9fG8z",
        "colab": {
          "base_uri": "https://localhost:8080/",
          "height": 179
        },
        "outputId": "776e51ba-24bf-4b97-e432-6d85d517db7f"
      },
      "outputs": [
        {
          "output_type": "display_data",
          "data": {
            "text/plain": [
              "<Figure size 500x100 with 1 Axes>"
            ],
            "image/png": "[encoded data removed]"
          },
          "metadata": {}
        }
      ],
      "source": [
        "# Box plot\n",
        "plt.figure(figsize=(5,1))\n",
        "sns.boxplot(x=df['duration_minutes_drives'], fliersize=1,color='orange')\n",
        "plt.title('duration_minutes_drives box plot');"
      ]
    },
    {
      "cell_type": "code",
      "execution_count": 52,
      "metadata": {
        "id": "7z4ajJJFfHoN",
        "colab": {
          "base_uri": "https://localhost:8080/",
          "height": 333
        },
        "outputId": "3f44e142-e32a-4cb4-d276-775f2f5ffad8"
      },
      "outputs": [
        {
          "output_type": "display_data",
          "data": {
            "text/plain": [
              "<Figure size 500x300 with 1 Axes>"
            ],
            "image/png": "[encoded data removed]"
          },
          "metadata": {}
        }
      ],
      "source": [
        "# Histogram\n",
        "histogrammer('duration_minutes_drives',color='yellow')"
      ]
    },
    {
      "cell_type": "markdown",
      "metadata": {
        "id": "lXRWnXA5fcmn"
      },
      "source": [
        "The `duration_minutes_drives` variable has a heavily skewed right tail. Half of the users drove less than \\~1,478 minutes (\\~25 hours), but some users clocked over 250 hours over the month."
      ]
    },
    {
      "cell_type": "markdown",
      "metadata": {
        "id": "sJ-5zhujfcXb"
      },
      "source": [
        "#### **`activity_days`**\n",
        "\n",
        "_Number of days the user opens the app during the month_"
      ]
    },
    {
      "cell_type": "code",
      "execution_count": 53,
      "metadata": {
        "id": "rpy9NzemfkDz",
        "colab": {
          "base_uri": "https://localhost:8080/",
          "height": 179
        },
        "outputId": "6549e89a-f304-43ca-813a-c1c0ea4a2ec1"
      },
      "outputs": [
        {
          "output_type": "display_data",
          "data": {
            "text/plain": [
              "<Figure size 500x100 with 1 Axes>"
            ],
            "image/png": "[encoded data removed]"
          },
          "metadata": {}
        }
      ],
      "source": [
        "# Box plot\n",
        "plt.figure(figsize=(5,1))\n",
        "sns.boxplot(x=df['activity_days'], fliersize=1)\n",
        "plt.title('activity_days box plot');"
      ]
    },
    {
      "cell_type": "code",
      "execution_count": 54,
      "metadata": {
        "id": "JTdGJbmffqNK",
        "colab": {
          "base_uri": "https://localhost:8080/",
          "height": 351
        },
        "outputId": "420183a4-729e-40f7-a50b-733055731036"
      },
      "outputs": [
        {
          "output_type": "stream",
          "name": "stdout",
          "text": [
            "Median: 16.0\n"
          ]
        },
        {
          "output_type": "display_data",
          "data": {
            "text/plain": [
              "<Figure size 500x300 with 1 Axes>"
            ],
            "image/png": "[encoded data removed]"
          },
          "metadata": {}
        }
      ],
      "source": [
        "# Histogram\n",
        "histogrammer('activity_days', median_text=False, discrete=True,color='yellow')"
      ]
    },
    {
      "cell_type": "markdown",
      "metadata": {
        "id": "eRkkqv1xfrPN"
      },
      "source": [
        "Within the last month, users opened the app a median of 16 times. The box plot reveals a centered distribution. The histogram shows a nearly uniform distribution of ~500 people opening the app on each count of days. However, there are ~250 people who didn't open the app at all and ~250 people who opened the app every day of the month.\n",
        "\n",
        "This distribution is noteworthy because it does not mirror the `sessions` distribution, which you might think would be closely correlated with `activity_days`."
      ]
    },
    {
      "cell_type": "markdown",
      "metadata": {
        "id": "fbbqVbBFfrBP"
      },
      "source": [
        "#### **`driving_days`**\n",
        "\n",
        "_Number of days the user drives (at least 1 km) during the month_"
      ]
    },
    {
      "cell_type": "code",
      "execution_count": 55,
      "metadata": {
        "id": "hhn-402gf3ff",
        "colab": {
          "base_uri": "https://localhost:8080/",
          "height": 179
        },
        "outputId": "4a9ba896-7419-42ba-c606-72f89fce8a6a"
      },
      "outputs": [
        {
          "output_type": "display_data",
          "data": {
            "text/plain": [
              "<Figure size 500x100 with 1 Axes>"
            ],
            "image/png": "[encoded data removed]"
          },
          "metadata": {}
        }
      ],
      "source": [
        "# Box plot\n",
        "plt.figure(figsize=(5,1))\n",
        "sns.boxplot(x=df['driving_days'], fliersize=1)\n",
        "plt.title('driving_days box plot');"
      ]
    },
    {
      "cell_type": "code",
      "execution_count": 56,
      "metadata": {
        "id": "Yi9bkUS2f37N",
        "colab": {
          "base_uri": "https://localhost:8080/",
          "height": 351
        },
        "outputId": "02e37367-ed2e-408a-b349-51e756e66415"
      },
      "outputs": [
        {
          "output_type": "stream",
          "name": "stdout",
          "text": [
            "Median: 12.0\n"
          ]
        },
        {
          "output_type": "display_data",
          "data": {
            "text/plain": [
              "<Figure size 500x300 with 1 Axes>"
            ],
            "image/png": "[encoded data removed]"
          },
          "metadata": {}
        }
      ],
      "source": [
        "# Histogram\n",
        "histogrammer('driving_days', median_text=False, discrete=True,color='yellow')"
      ]
    },
    {
      "cell_type": "markdown",
      "metadata": {
        "id": "I2p_HuzRf4Xo"
      },
      "source": [
        "The number of days users drove each month is almost uniform, and it largely correlates with the number of days they opened the app that month, except the `driving_days` distribution tails off on the right.\n",
        "\n",
        "However, there were almost twice as many users (\\~1,000 vs. \\~550) who did not drive at all during the month. This might seem counterintuitive when considered together with the information from `activity_days`. That variable had \\~500 users opening the app on each of most of the day counts, but there were only \\~250 users who did not open the app at all during the month and ~250 users who opened the app every day. Flag this for further investigation later."
      ]
    },
    {
      "cell_type": "markdown",
      "metadata": {
        "id": "-TmcckFcgDLK"
      },
      "source": [
        "#### **`device`**\n",
        "\n",
        "_The type of device a user starts a session with_\n",
        "\n",
        "This is a categorical variable, so you do not plot a box plot for it. A good plot for a binary categorical variable is a pie chart."
      ]
    },
    {
      "cell_type": "code",
      "execution_count": 57,
      "metadata": {
        "id": "evNrxWWQgDuN",
        "colab": {
          "base_uri": "https://localhost:8080/",
          "height": 290
        },
        "outputId": "7a2a8da7-1136-4951-d0fa-9fd8bbc202a9"
      },
      "outputs": [
        {
          "output_type": "display_data",
          "data": {
            "text/plain": [
              "<Figure size 300x300 with 1 Axes>"
            ],
            "image/png": "[encoded data removed]"
          },
          "metadata": {}
        }
      ],
      "source": [
        "# Pie chart\n",
        "fig = plt.figure(figsize=(3,3))\n",
        "data=df['device'].value_counts()\n",
        "plt.pie(data,\n",
        "        labels=[f'{data.index[0]}: {data.values[0]}',\n",
        "                f'{data.index[1]}: {data.values[1]}'],\n",
        "        autopct='%1.1f%%'\n",
        "        )\n",
        "plt.title('Users by device');"
      ]
    },
    {
      "cell_type": "markdown",
      "metadata": {
        "id": "m7NuKItJgEh2"
      },
      "source": [
        "There are nearly twice as many iPhone users as Android users represented in this data."
      ]
    },
    {
      "cell_type": "markdown",
      "metadata": {
        "id": "VJH5j71RgViQ"
      },
      "source": [
        "#### **`label`**\n",
        "\n",
        "_Binary target variable (“retained” vs “churned”) for if a user has churned anytime during the course of the month_\n",
        "\n",
        "This is also a categorical variable, and as such would not be plotted as a box plot. Plot a pie chart instead."
      ]
    },
    {
      "cell_type": "code",
      "execution_count": 58,
      "metadata": {
        "id": "MQ1nVQIBgWOv",
        "colab": {
          "base_uri": "https://localhost:8080/",
          "height": 290
        },
        "outputId": "57e2bc80-e3be-47cc-98ff-2cfe4f2647b7"
      },
      "outputs": [
        {
          "output_type": "display_data",
          "data": {
            "text/plain": [
              "<Figure size 300x300 with 1 Axes>"
            ],
            "image/png": "[encoded data removed]"
          },
          "metadata": {}
        }
      ],
      "source": [
        "# Pie chart\n",
        "fig = plt.figure(figsize=(3,3))\n",
        "data=df['label'].value_counts()\n",
        "plt.pie(data,\n",
        "        labels=[f'{data.index[0]}: {data.values[0]}',\n",
        "                f'{data.index[1]}: {data.values[1]}'],\n",
        "        autopct='%1.1f%%'\n",
        "        )\n",
        "plt.title('Count of retained vs. churned');"
      ]
    },
    {
      "cell_type": "markdown",
      "metadata": {
        "id": "cmM8NrSYghlg"
      },
      "source": [
        "Less than 18% of the users churned."
      ]
    },
    {
      "cell_type": "markdown",
      "metadata": {
        "id": "cRsY_TYPgik5"
      },
      "source": [
        "#### **`driving_days` vs. `activity_days`**\n",
        "\n",
        "Because both `driving_days` and `activity_days` represent counts of days over a month and they're also closely related, you can plot them together on a single histogram. This will help to better understand how they relate to each other without having to scroll back and forth comparing histograms in two different places.\n",
        "\n",
        "Plot a histogram that, for each day, has a bar representing the counts of `driving_days` and `activity_days`."
      ]
    },
    {
      "cell_type": "code",
      "execution_count": 62,
      "metadata": {
        "id": "Ly1sNysEgjFc",
        "colab": {
          "base_uri": "https://localhost:8080/",
          "height": 410
        },
        "outputId": "bd183801-37d6-4526-e61e-fb6d00bc5b4c"
      },
      "outputs": [
        {
          "output_type": "display_data",
          "data": {
            "text/plain": [
              "<Figure size 1200x400 with 1 Axes>"
            ],
            "image/png": "[encoded data removed]"
          },
          "metadata": {}
        }
      ],
      "source": [
        "# Histogram\n",
        "plt.figure(figsize=(12,4))\n",
        "label=['driving days', 'activity days']\n",
        "plt.hist([df['driving_days'], df['activity_days']],\n",
        "         bins=range(0,33),\n",
        "         label=label)\n",
        "plt.xlabel('days')\n",
        "plt.ylabel('count')\n",
        "plt.legend()\n",
        "plt.title('driving_days vs. activity_days');"
      ]
    },
    {
      "cell_type": "markdown",
      "metadata": {
        "id": "8kQS1OzIgzhF"
      },
      "source": [
        "As observed previously, this might seem counterintuitive. After all, why are there _fewer_ people who didn't use the app at all during the month and _more_ people who didn't drive at all during the month?\n",
        "\n",
        "On the other hand, it could just be illustrative of the fact that, while these variables are related to each other, they're not the same. People probably just open the app more than they use the app to drive&mdash;perhaps to check drive times or route information, to update settings, or even just by mistake.\n",
        "\n",
        "Nonetheless, it might be worthwile to contact the data team at Waze to get more information about this, especially because it seems that the number of days in the month is not the same between variables.\n",
        "\n",
        "Confirm the maximum number of days for each variable&mdash;`driving_days` and `activity_days`."
      ]
    },
    {
      "cell_type": "code",
      "execution_count": 63,
      "metadata": {
        "id": "ZY266xXxg-rO",
        "colab": {
          "base_uri": "https://localhost:8080/"
        },
        "outputId": "86eea160-7ef9-4bab-bb5c-804d47ae821a"
      },
      "outputs": [
        {
          "output_type": "stream",
          "name": "stdout",
          "text": [
            "30\n",
            "31\n"
          ]
        }
      ],
      "source": [
        "print(df['driving_days'].max())\n",
        "print(df['activity_days'].max())"
      ]
    },
    {
      "cell_type": "markdown",
      "metadata": {
        "id": "oBEq9YwChEGx"
      },
      "source": [
        "It's true. Although it's possible that not a single user drove all 31 days of the month, it's highly unlikely, considering there are 15,000 people represented in the dataset.\n",
        "\n",
        "One other way to check the validity of these variables is to plot a simple scatter plot with the x-axis representing one variable and the y-axis representing the other."
      ]
    },
    {
      "cell_type": "code",
      "execution_count": 64,
      "metadata": {
        "id": "I4VMyxguhFBV",
        "colab": {
          "base_uri": "https://localhost:8080/",
          "height": 472
        },
        "outputId": "f2d033a4-9d8d-411b-f6f9-245501a7cf06"
      },
      "outputs": [
        {
          "output_type": "display_data",
          "data": {
            "text/plain": [
              "<Figure size 640x480 with 1 Axes>"
            ],
            "image/png": "[encoded data removed]"
          },
          "metadata": {}
        }
      ],
      "source": [
        "# Scatter plot\n",
        "sns.scatterplot(data=df, x='driving_days', y='activity_days')\n",
        "plt.title('driving_days vs. activity_days')\n",
        "plt.plot([0,31], [0,31], color='red', linestyle='--');"
      ]
    },
    {
      "cell_type": "markdown",
      "metadata": {
        "id": "DWO3ljhFhG-e"
      },
      "source": [
        "Notice that there is a theoretical limit. If you use the app to drive, then by definition it must count as a day-use as well. In other words, you cannot have more drive-days than activity-days. None of the samples in this data violate this rule, which is good."
      ]
    },
    {
      "cell_type": "markdown",
      "metadata": {
        "id": "bcZkCH5WhVfE"
      },
      "source": [
        "#### **Retention by device**\n",
        "\n",
        "Plot a histogram that has four bars&mdash;one for each device-label combination&mdash;to show how many iPhone users were retained/churned and how many Android users were retained/churned."
      ]
    },
    {
      "cell_type": "code",
      "execution_count": 65,
      "metadata": {
        "id": "75uHBjB1hZIl",
        "colab": {
          "base_uri": "https://localhost:8080/",
          "height": 410
        },
        "outputId": "4b343629-8573-4fe4-d415-adac4cac61ff"
      },
      "outputs": [
        {
          "output_type": "display_data",
          "data": {
            "text/plain": [
              "<Figure size 500x400 with 1 Axes>"
            ],
            "image/png": "[encoded data removed]"
          },
          "metadata": {}
        }
      ],
      "source": [
        "# Histogram\n",
        "plt.figure(figsize=(5,4))\n",
        "sns.histplot(data=df,\n",
        "             x='device',\n",
        "             hue='label',\n",
        "             multiple='dodge',\n",
        "             shrink=0.9\n",
        "             )\n",
        "plt.title('Retention by device histogram');"
      ]
    },
    {
      "cell_type": "markdown",
      "metadata": {
        "id": "sVOvIbG-hZg-"
      },
      "source": [
        "The proportion of churned users to retained users is consistent between device types."
      ]
    },
    {
      "cell_type": "markdown",
      "metadata": {
        "id": "TMYRLh8EhhuK"
      },
      "source": [
        "#### **Retention by kilometers driven per driving day**\n",
        "\n",
        "In the previous course, you discovered that the median distance driven last month for users who churned was 8.33 km, versus 3.36 km for people who did not churn. Examine this further.\n",
        "\n",
        "1. Create a new column in `df` called `km_per_driving_day`, which represents the mean distance driven per driving day for each user.\n",
        "\n",
        "2. Call the `describe()` method on the new column."
      ]
    },
    {
      "cell_type": "code",
      "execution_count": 67,
      "metadata": {
        "id": "6IONTyaHhipo",
        "colab": {
          "base_uri": "https://localhost:8080/"
        },
        "outputId": "92994fcc-488a-47d0-954a-486c1f62f648"
      },
      "outputs": [
        {
          "output_type": "execute_result",
          "data": {
            "text/plain": [
              "count    1.499900e+04\n",
              "mean              inf\n",
              "std               NaN\n",
              "min      3.022063e+00\n",
              "25%      1.672804e+02\n",
              "50%      3.231459e+02\n",
              "75%      7.579257e+02\n",
              "max               inf\n",
              "Name: km_per_driving_day, dtype: float64"
            ]
          },
          "metadata": {},
          "execution_count": 67
        }
      ],
      "source": [
        "\n",
        "# 1. Create `km_per_driving_day` column\n",
        "df['km_per_driving_day'] = df['driven_km_drives'] / df['driving_days']\n",
        "\n",
        "# 2. Call `describe()` on the new column\n",
        "df['km_per_driving_day'].describe()\n"
      ]
    },
    {
      "cell_type": "markdown",
      "metadata": {
        "id": "xF6KG_TMDDgd"
      },
      "source": [
        "What do you notice? The mean value is infinity, the standard deviation is NaN, and the max value is infinity. Why do you think this is?\n",
        "\n",
        "This is the result of there being values of zero in the `driving_days` column. Pandas imputes a value of infinity in the corresponding rows of the new column because division by zero is undefined.\n",
        "\n",
        "1. Convert these values from infinity to zero. You can use `np.inf` to refer to a value of infinity.\n",
        "\n",
        "2. Call `describe()` on the `km_per_driving_day` column to verify that it worked."
      ]
    },
    {
      "cell_type": "code",
      "execution_count": 68,
      "metadata": {
        "id": "pdBYXuvCDDgd",
        "colab": {
          "base_uri": "https://localhost:8080/"
        },
        "outputId": "23a560e2-bd7e-48c5-80dd-f0b9089c1677"
      },
      "outputs": [
        {
          "output_type": "execute_result",
          "data": {
            "text/plain": [
              "count    14999.000000\n",
              "mean       578.963113\n",
              "std       1030.094384\n",
              "min          0.000000\n",
              "25%        136.238895\n",
              "50%        272.889272\n",
              "75%        558.686918\n",
              "max      15420.234110\n",
              "Name: km_per_driving_day, dtype: float64"
            ]
          },
          "metadata": {},
          "execution_count": 68
        }
      ],
      "source": [
        "# 1. Convert infinite values to zero\n",
        "df.loc[df['km_per_driving_day']==np.inf, 'km_per_driving_day'] = 0\n",
        "\n",
        "# 2. Confirm that it worked\n",
        "df['km_per_driving_day'].describe()"
      ]
    },
    {
      "cell_type": "markdown",
      "metadata": {
        "id": "DVCP1F9thspa"
      },
      "source": [
        "The maximum value is 15,420 kilometers _per drive day_. This is physically impossible. Driving 100 km/hour for 12 hours is 1,200 km. It's unlikely many people averaged more than this each day they drove, so, for now, disregard rows where the distance in this column is greater than 1,200 km.\n",
        "\n",
        "Plot a histogram of the new `km_per_driving_day` column, disregarding those users with values greater than 1,200 km. Each bar should be the same length and have two colors, one color representing the percent of the users in that bar that churned and the other representing the percent that were retained. This can be done by setting the `multiple` parameter of seaborn's [`histplot()`](https://seaborn.pydata.org/generated/seaborn.histplot.html) function to `fill`."
      ]
    },
    {
      "cell_type": "code",
      "execution_count": 69,
      "metadata": {
        "id": "8ntKu1bAhxhA",
        "colab": {
          "base_uri": "https://localhost:8080/",
          "height": 487
        },
        "outputId": "7b08f1c8-c936-49e7-cfd9-9c68e85278a7"
      },
      "outputs": [
        {
          "output_type": "display_data",
          "data": {
            "text/plain": [
              "<Figure size 1200x500 with 1 Axes>"
            ],
            "image/png": "[encoded data removed]"
          },
          "metadata": {}
        }
      ],
      "source": [
        "# Histogram\n",
        "plt.figure(figsize=(12,5))\n",
        "sns.histplot(data=df,\n",
        "             x='km_per_driving_day',\n",
        "             bins=range(0,1201,20),\n",
        "             hue='label',\n",
        "             multiple='fill')\n",
        "plt.ylabel('%', rotation=0)\n",
        "plt.title('Churn rate by mean km per driving day');"
      ]
    },
    {
      "cell_type": "markdown",
      "metadata": {
        "id": "cD8icOhNh9zD"
      },
      "source": [
        "The churn rate tends to increase as the mean daily distance driven increases, confirming what was found in the previous course. It would be worth investigating further the reasons for long-distance users to discontinue using the app."
      ]
    },
    {
      "cell_type": "markdown",
      "metadata": {
        "id": "bKK1y7xTh-xY"
      },
      "source": [
        "#### **Churn rate per number of driving days**\n",
        "\n",
        "Create another histogram just like the previous one, only this time it should represent the churn rate for each number of driving days."
      ]
    },
    {
      "cell_type": "code",
      "execution_count": 70,
      "metadata": {
        "id": "GPc4nj-7iDPB",
        "colab": {
          "base_uri": "https://localhost:8080/",
          "height": 487
        },
        "outputId": "17f4b1ab-4e65-4c41-c925-e5760560ffb4"
      },
      "outputs": [
        {
          "output_type": "display_data",
          "data": {
            "text/plain": [
              "<Figure size 1200x500 with 1 Axes>"
            ],
            "image/png": "[encoded data removed]"
          },
          "metadata": {}
        }
      ],
      "source": [
        "# Histogram\n",
        "plt.figure(figsize=(12,5))\n",
        "sns.histplot(data=df,\n",
        "             x='driving_days',\n",
        "             bins=range(1,32),\n",
        "             hue='label',\n",
        "             multiple='fill',\n",
        "             discrete=True)\n",
        "plt.ylabel('%', rotation=0)\n",
        "plt.title('Churn rate per driving day');"
      ]
    },
    {
      "cell_type": "markdown",
      "metadata": {
        "id": "RUD5Bf6yiDoa"
      },
      "source": [
        "The churn rate is highest for people who didn't use Waze much during the last month. The more times they used the app, the less likely they were to churn. While 40% of the users who didn't use the app at all last month churned, nobody who used the app 30 days churned.\n",
        "\n",
        "This isn't surprising. If people who used the app a lot churned, it would likely indicate dissatisfaction. When people who don't use the app churn, it might be the result of dissatisfaction in the past, or it might be indicative of a lesser need for a navigational app. Maybe they moved to a city with good public transportation and don't need to drive anymore."
      ]
    },
    {
      "cell_type": "markdown",
      "metadata": {
        "id": "75ncCHO7iEFi"
      },
      "source": [
        "#### **Proportion of sessions that occurred in the last month**\n",
        "\n",
        "Create a new column `percent_sessions_in_last_month` that represents the percentage of each user's total sessions that were logged in their last month of use."
      ]
    },
    {
      "cell_type": "code",
      "execution_count": 71,
      "metadata": {
        "id": "NyXwJMJTiSdK"
      },
      "outputs": [],
      "source": [
        "df['percent_sessions_in_last_month'] = df['sessions'] / df['total_sessions']"
      ]
    },
    {
      "cell_type": "markdown",
      "metadata": {
        "id": "w30I7A3UiWQD"
      },
      "source": [
        "What is the median value of the new column?"
      ]
    },
    {
      "cell_type": "code",
      "execution_count": 72,
      "metadata": {
        "id": "3wa8IZ7UiS5l",
        "colab": {
          "base_uri": "https://localhost:8080/"
        },
        "outputId": "2cd8afdb-d928-47f7-b1ab-66ea68d6f488"
      },
      "outputs": [
        {
          "output_type": "execute_result",
          "data": {
            "text/plain": [
              "0.42309702992763176"
            ]
          },
          "metadata": {},
          "execution_count": 72
        }
      ],
      "source": [
        "df['percent_sessions_in_last_month'].median()"
      ]
    },
    {
      "cell_type": "markdown",
      "metadata": {
        "id": "8EKHSAnXiaIY"
      },
      "source": [
        "Now, create a histogram depicting the distribution of values in this new column."
      ]
    },
    {
      "cell_type": "code",
      "execution_count": 73,
      "metadata": {
        "id": "9NtRmPHpieC3",
        "colab": {
          "base_uri": "https://localhost:8080/",
          "height": 351
        },
        "outputId": "0b1073b2-12a1-4119-f201-8307bc92686e"
      },
      "outputs": [
        {
          "output_type": "stream",
          "name": "stdout",
          "text": [
            "Median: 0.4\n"
          ]
        },
        {
          "output_type": "display_data",
          "data": {
            "text/plain": [
              "<Figure size 500x300 with 1 Axes>"
            ],
            "image/png": "[encoded data removed]"
          },
          "metadata": {}
        }
      ],
      "source": [
        "# Histogram\n",
        "histogrammer('percent_sessions_in_last_month',\n",
        "             hue=df['label'],\n",
        "             multiple='layer',\n",
        "             median_text=False)"
      ]
    },
    {
      "cell_type": "markdown",
      "metadata": {
        "id": "_oSkxrx2iehb"
      },
      "source": [
        "Check the median value of the `n_days_after_onboarding` variable."
      ]
    },
    {
      "cell_type": "code",
      "execution_count": 74,
      "metadata": {
        "id": "pHJADu8Mi0u2",
        "colab": {
          "base_uri": "https://localhost:8080/"
        },
        "outputId": "824b72c2-3fb3-4454-b39a-a33f47b641a7"
      },
      "outputs": [
        {
          "output_type": "execute_result",
          "data": {
            "text/plain": [
              "1741.0"
            ]
          },
          "metadata": {},
          "execution_count": 74
        }
      ],
      "source": [
        "df['n_days_after_onboarding'].median()"
      ]
    },
    {
      "cell_type": "markdown",
      "metadata": {
        "id": "4IFsNT-9izvT"
      },
      "source": [
        "Half of the people in the dataset had 40% or more of their sessions in just the last month, yet the overall median time since onboarding is almost five years.\n",
        "\n",
        "Make a histogram of `n_days_after_onboarding` for just the people who had 40% or more of their total sessions in the last month."
      ]
    },
    {
      "cell_type": "code",
      "execution_count": 75,
      "metadata": {
        "id": "AsycVhNdi-Va",
        "colab": {
          "base_uri": "https://localhost:8080/",
          "height": 333
        },
        "outputId": "1fd9f79e-5c84-4778-cf12-4c75321323fa"
      },
      "outputs": [
        {
          "output_type": "display_data",
          "data": {
            "text/plain": [
              "<Figure size 500x300 with 1 Axes>"
            ],
            "image/png": "[encoded data removed]"
          },
          "metadata": {}
        }
      ],
      "source": [
        "# Histogram\n",
        "data = df.loc[df['percent_sessions_in_last_month']>=0.4]\n",
        "plt.figure(figsize=(5,3))\n",
        "sns.histplot(x=data['n_days_after_onboarding'])\n",
        "plt.title('Num. days after onboarding for users with >=40% sessions in last month');"
      ]
    },
    {
      "cell_type": "markdown",
      "metadata": {
        "id": "flcUGkjUjAqW"
      },
      "source": [
        "The number of days since onboarding for users with 40% or more of their total sessions occurring in just the last month is a uniform distribution. This is very strange. It's worth asking Waze why so many long-time users suddenly used the app so much in the last month."
      ]
    },
    {
      "cell_type": "markdown",
      "metadata": {
        "id": "O0zL7Nd0jMYS"
      },
      "source": [
        "### **Task 3b. Handling outliers**\n",
        "\n",
        "The box plots from the previous section indicated that many of these variables have outliers. These outliers do not seem to be data entry errors; they are present because of the right-skewed distributions.\n",
        "\n",
        "Depending on what you'll be doing with this data, it may be useful to impute outlying data with more reasonable values. One way of performing this imputation is to set a threshold based on a percentile of the distribution.\n",
        "\n",
        "To practice this technique, write a function that calculates the 95th percentile of a given column, then imputes values > the 95th percentile with the value at the 95th percentile.  such as the 95th percentile of the distribution.\n",
        "\n"
      ]
    },
    {
      "cell_type": "code",
      "execution_count": 76,
      "metadata": {
        "id": "4Ki9T-m7jsGy"
      },
      "outputs": [],
      "source": [
        "def outlier_imputer(column_name, percentile):\n",
        "    # Calculate threshold\n",
        "    threshold = df[column_name].quantile(percentile)\n",
        "    # Impute threshold for values > than threshold\n",
        "    df.loc[df[column_name] > threshold, column_name] = threshold\n",
        "\n",
        "    print('{:>25} | percentile: {} | threshold: {}'.format(column_name, percentile, threshold))"
      ]
    },
    {
      "cell_type": "markdown",
      "metadata": {
        "id": "nsdi-4dSkmMF"
      },
      "source": [
        "Next, apply that function to the following columns:\n",
        "* `sessions`\n",
        "* `drives`\n",
        "* `total_sessions`\n",
        "* `driven_km_drives`\n",
        "* `duration_minutes_drives`"
      ]
    },
    {
      "cell_type": "code",
      "execution_count": 77,
      "metadata": {
        "id": "f6_TKdIHjtS9",
        "colab": {
          "base_uri": "https://localhost:8080/"
        },
        "outputId": "32c3e7b6-7494-4d06-c3f1-554e27bbb711"
      },
      "outputs": [
        {
          "output_type": "stream",
          "name": "stdout",
          "text": [
            "                 sessions | percentile: 0.95 | threshold: 243.0\n",
            "                   drives | percentile: 0.95 | threshold: 201.0\n",
            "           total_sessions | percentile: 0.95 | threshold: 454.3632037399997\n",
            "         driven_km_drives | percentile: 0.95 | threshold: 8889.7942356\n",
            "  duration_minutes_drives | percentile: 0.95 | threshold: 4668.899348999998\n"
          ]
        }
      ],
      "source": [
        "for column in ['sessions', 'drives', 'total_sessions',\n",
        "               'driven_km_drives', 'duration_minutes_drives']:\n",
        "               outlier_imputer(column, 0.95)"
      ]
    },
    {
      "cell_type": "markdown",
      "metadata": {
        "id": "_Az4Ma-xj3K4"
      },
      "source": [
        "Call `describe()` to see if your change worked."
      ]
    },
    {
      "cell_type": "code",
      "execution_count": 78,
      "metadata": {
        "id": "IXQkG9RekP85",
        "colab": {
          "base_uri": "https://localhost:8080/",
          "height": 320
        },
        "outputId": "e3a8c0a2-c223-4b49-af68-490faa4b3de1"
      },
      "outputs": [
        {
          "output_type": "execute_result",
          "data": {
            "text/plain": [
              "                 ID      sessions        drives  total_sessions  \\\n",
              "count  14999.000000  14999.000000  14999.000000    14999.000000   \n",
              "mean    7499.000000     76.568705     64.058204      184.031320   \n",
              "std     4329.982679     67.297958     55.306924      118.600463   \n",
              "min        0.000000      0.000000      0.000000        0.220211   \n",
              "25%     3749.500000     23.000000     20.000000       90.661156   \n",
              "50%     7499.000000     56.000000     48.000000      159.568115   \n",
              "75%    11248.500000    112.000000     93.000000      254.192341   \n",
              "max    14998.000000    243.000000    201.000000      454.363204   \n",
              "\n",
              "       n_days_after_onboarding  total_navigations_fav1  \\\n",
              "count             14999.000000            14999.000000   \n",
              "mean               1749.837789              121.605974   \n",
              "std                1008.513876              148.121544   \n",
              "min                   4.000000                0.000000   \n",
              "25%                 878.000000                9.000000   \n",
              "50%                1741.000000               71.000000   \n",
              "75%                2623.500000              178.000000   \n",
              "max                3500.000000             1236.000000   \n",
              "\n",
              "       total_navigations_fav2  driven_km_drives  duration_minutes_drives  \\\n",
              "count            14999.000000      14999.000000             14999.000000   \n",
              "mean                29.672512       3939.632764              1789.647426   \n",
              "std                 45.394651       2216.041510              1222.705167   \n",
              "min                  0.000000         60.441250                18.282082   \n",
              "25%                  0.000000       2212.600607               835.996260   \n",
              "50%                  9.000000       3493.858085              1478.249859   \n",
              "75%                 43.000000       5289.861262              2464.362632   \n",
              "max                415.000000       8889.794236              4668.899349   \n",
              "\n",
              "       activity_days  driving_days  km_per_driving_day  \\\n",
              "count   14999.000000  14999.000000        14999.000000   \n",
              "mean       15.537102     12.179879          578.963113   \n",
              "std         9.004655      7.824036         1030.094384   \n",
              "min         0.000000      0.000000            0.000000   \n",
              "25%         8.000000      5.000000          136.238895   \n",
              "50%        16.000000     12.000000          272.889272   \n",
              "75%        23.000000     19.000000          558.686918   \n",
              "max        31.000000     30.000000        15420.234110   \n",
              "\n",
              "       percent_sessions_in_last_month  \n",
              "count                    14999.000000  \n",
              "mean                         0.449255  \n",
              "std                          0.286919  \n",
              "min                          0.000000  \n",
              "25%                          0.196221  \n",
              "50%                          0.423097  \n",
              "75%                          0.687216  \n",
              "max                          1.530637  "
            ],
            "text/html": [
              "\n",
              "  <div id=\"df-be311060-7bb5-4072-a340-a24a4d9e0f35\" class=\"colab-df-container\">\n",
              "    <div>\n",
              "<style scoped>\n",
              "    .dataframe tbody tr th:only-of-type {\n",
              "        vertical-align: middle;\n",
              "    }\n",
              "\n",
              "    .dataframe tbody tr th {\n",
              "        vertical-align: top;\n",
              "    }\n",
              "\n",
              "    .dataframe thead th {\n",
              "        text-align: right;\n",
              "    }\n",
              "</style>\n",
              "<table border=\"1\" class=\"dataframe\">\n",
              "  <thead>\n",
              "    <tr style=\"text-align: right;\">\n",
              "      <th></th>\n",
              "      <th>ID</th>\n",
              "      <th>sessions</th>\n",
              "      <th>drives</th>\n",
              "      <th>total_sessions</th>\n",
              "      <th>n_days_after_onboarding</th>\n",
              "      <th>total_navigations_fav1</th>\n",
              "      <th>total_navigations_fav2</th>\n",
              "      <th>driven_km_drives</th>\n",
              "      <th>duration_minutes_drives</th>\n",
              "      <th>activity_days</th>\n",
              "      <th>driving_days</th>\n",
              "      <th>km_per_driving_day</th>\n",
              "      <th>percent_sessions_in_last_month</th>\n",
              "    </tr>\n",
              "  </thead>\n",
              "  <tbody>\n",
              "    <tr>\n",
              "      <th>count</th>\n",
              "      <td>14999.000000</td>\n",
              "      <td>14999.000000</td>\n",
              "      <td>14999.000000</td>\n",
              "      <td>14999.000000</td>\n",
              "      <td>14999.000000</td>\n",
              "      <td>14999.000000</td>\n",
              "      <td>14999.000000</td>\n",
              "      <td>14999.000000</td>\n",
              "      <td>14999.000000</td>\n",
              "      <td>14999.000000</td>\n",
              "      <td>14999.000000</td>\n",
              "      <td>14999.000000</td>\n",
              "      <td>14999.000000</td>\n",
              "    </tr>\n",
              "    <tr>\n",
              "      <th>mean</th>\n",
              "      <td>7499.000000</td>\n",
              "      <td>76.568705</td>\n",
              "      <td>64.058204</td>\n",
              "      <td>184.031320</td>\n",
              "      <td>1749.837789</td>\n",
              "      <td>121.605974</td>\n",
              "      <td>29.672512</td>\n",
              "      <td>3939.632764</td>\n",
              "      <td>1789.647426</td>\n",
              "      <td>15.537102</td>\n",
              "      <td>12.179879</td>\n",
              "      <td>578.963113</td>\n",
              "      <td>0.449255</td>\n",
              "    </tr>\n",
              "    <tr>\n",
              "      <th>std</th>\n",
              "      <td>4329.982679</td>\n",
              "      <td>67.297958</td>\n",
              "      <td>55.306924</td>\n",
              "      <td>118.600463</td>\n",
              "      <td>1008.513876</td>\n",
              "      <td>148.121544</td>\n",
              "      <td>45.394651</td>\n",
              "      <td>2216.041510</td>\n",
              "      <td>1222.705167</td>\n",
              "      <td>9.004655</td>\n",
              "      <td>7.824036</td>\n",
              "      <td>1030.094384</td>\n",
              "      <td>0.286919</td>\n",
              "    </tr>\n",
              "    <tr>\n",
              "      <th>min</th>\n",
              "      <td>0.000000</td>\n",
              "      <td>0.000000</td>\n",
              "      <td>0.000000</td>\n",
              "      <td>0.220211</td>\n",
              "      <td>4.000000</td>\n",
              "      <td>0.000000</td>\n",
              "      <td>0.000000</td>\n",
              "      <td>60.441250</td>\n",
              "      <td>18.282082</td>\n",
              "      <td>0.000000</td>\n",
              "      <td>0.000000</td>\n",
              "      <td>0.000000</td>\n",
              "      <td>0.000000</td>\n",
              "    </tr>\n",
              "    <tr>\n",
              "      <th>25%</th>\n",
              "      <td>3749.500000</td>\n",
              "      <td>23.000000</td>\n",
              "      <td>20.000000</td>\n",
              "      <td>90.661156</td>\n",
              "      <td>878.000000</td>\n",
              "      <td>9.000000</td>\n",
              "      <td>0.000000</td>\n",
              "      <td>2212.600607</td>\n",
              "      <td>835.996260</td>\n",
              "      <td>8.000000</td>\n",
              "      <td>5.000000</td>\n",
              "      <td>136.238895</td>\n",
              "      <td>0.196221</td>\n",
              "    </tr>\n",
              "    <tr>\n",
              "      <th>50%</th>\n",
              "      <td>7499.000000</td>\n",
              "      <td>56.000000</td>\n",
              "      <td>48.000000</td>\n",
              "      <td>159.568115</td>\n",
              "      <td>1741.000000</td>\n",
              "      <td>71.000000</td>\n",
              "      <td>9.000000</td>\n",
              "      <td>3493.858085</td>\n",
              "      <td>1478.249859</td>\n",
              "      <td>16.000000</td>\n",
              "      <td>12.000000</td>\n",
              "      <td>272.889272</td>\n",
              "      <td>0.423097</td>\n",
              "    </tr>\n",
              "    <tr>\n",
              "      <th>75%</th>\n",
              "      <td>11248.500000</td>\n",
              "      <td>112.000000</td>\n",
              "      <td>93.000000</td>\n",
              "      <td>254.192341</td>\n",
              "      <td>2623.500000</td>\n",
              "      <td>178.000000</td>\n",
              "      <td>43.000000</td>\n",
              "      <td>5289.861262</td>\n",
              "      <td>2464.362632</td>\n",
              "      <td>23.000000</td>\n",
              "      <td>19.000000</td>\n",
              "      <td>558.686918</td>\n",
              "      <td>0.687216</td>\n",
              "    </tr>\n",
              "    <tr>\n",
              "      <th>max</th>\n",
              "      <td>14998.000000</td>\n",
              "      <td>243.000000</td>\n",
              "      <td>201.000000</td>\n",
              "      <td>454.363204</td>\n",
              "      <td>3500.000000</td>\n",
              "      <td>1236.000000</td>\n",
              "      <td>415.000000</td>\n",
              "      <td>8889.794236</td>\n",
              "      <td>4668.899349</td>\n",
              "      <td>31.000000</td>\n",
              "      <td>30.000000</td>\n",
              "      <td>15420.234110</td>\n",
              "      <td>1.530637</td>\n",
              "    </tr>\n",
              "  </tbody>\n",
              "</table>\n",
              "</div>\n",
              "    <div class=\"colab-df-buttons\">\n",
              "\n",
              "  <div class=\"colab-df-container\">\n",
              "    <button class=\"colab-df-convert\" onclick=\"convertToInteractive('df-be311060-7bb5-4072-a340-a24a4d9e0f35')\"\n",
              "            title=\"Convert this dataframe to an interactive table.\"\n",
              "            style=\"display:none;\">\n",
              "\n",
              "  <svg xmlns=\"http://www.w3.org/2000/svg\" height=\"24px\" viewBox=\"0 -960 960 960\">\n",
              "    <path d=\"M120-120v-720h720v720H120Zm60-500h600v-160H180v160Zm220 220h160v-160H400v160Zm0 220h160v-160H400v160ZM180-400h160v-160H180v160Zm440 0h160v-160H620v160ZM180-180h160v-160H180v160Zm440 0h160v-160H620v160Z\"/>\n",
              "  </svg>\n",
              "    </button>\n",
              "\n",
              "  <style>\n",
              "    .colab-df-container {\n",
              "      display:flex;\n",
              "      gap: 12px;\n",
              "    }\n",
              "\n",
              "    .colab-df-convert {\n",
              "      background-color: #E8F0FE;\n",
              "      border: none;\n",
              "      border-radius: 50%;\n",
              "      cursor: pointer;\n",
              "      display: none;\n",
              "      fill: #1967D2;\n",
              "      height: 32px;\n",
              "      padding: 0 0 0 0;\n",
              "      width: 32px;\n",
              "    }\n",
              "\n",
              "    .colab-df-convert:hover {\n",
              "      background-color: #E2EBFA;\n",
              "      box-shadow: 0px 1px 2px rgba(60, 64, 67, 0.3), 0px 1px 3px 1px rgba(60, 64, 67, 0.15);\n",
              "      fill: #174EA6;\n",
              "    }\n",
              "\n",
              "    .colab-df-buttons div {\n",
              "      margin-bottom: 4px;\n",
              "    }\n",
              "\n",
              "    [theme=dark] .colab-df-convert {\n",
              "      background-color: #3B4455;\n",
              "      fill: #D2E3FC;\n",
              "    }\n",
              "\n",
              "    [theme=dark] .colab-df-convert:hover {\n",
              "      background-color: #434B5C;\n",
              "      box-shadow: 0px 1px 3px 1px rgba(0, 0, 0, 0.15);\n",
              "      filter: drop-shadow(0px 1px 2px rgba(0, 0, 0, 0.3));\n",
              "      fill: #FFFFFF;\n",
              "    }\n",
              "  </style>\n",
              "\n",
              "    <script>\n",
              "      const buttonEl =\n",
              "        document.querySelector('#df-be311060-7bb5-4072-a340-a24a4d9e0f35 button.colab-df-convert');\n",
              "      buttonEl.style.display =\n",
              "        google.colab.kernel.accessAllowed ? 'block' : 'none';\n",
              "\n",
              "      async function convertToInteractive(key) {\n",
              "        const element = document.querySelector('#df-be311060-7bb5-4072-a340-a24a4d9e0f35');\n",
              "        const dataTable =\n",
              "          await google.colab.kernel.invokeFunction('convertToInteractive',\n",
              "                                                    [key], {});\n",
              "        if (!dataTable) return;\n",
              "\n",
              "        const docLinkHtml = 'Like what you see? Visit the ' +\n",
              "          '<a target=\"_blank\" href=https://colab.research.google.com/notebooks/data_table.ipynb>data table notebook</a>'\n",
              "          + ' to learn more about interactive tables.';\n",
              "        element.innerHTML = '';\n",
              "        dataTable['output_type'] = 'display_data';\n",
              "        await google.colab.output.renderOutput(dataTable, element);\n",
              "        const docLink = document.createElement('div');\n",
              "        docLink.innerHTML = docLinkHtml;\n",
              "        element.appendChild(docLink);\n",
              "      }\n",
              "    </script>\n",
              "  </div>\n",
              "\n",
              "\n",
              "<div id=\"df-8264b905-f4f6-4fb9-945b-c609324e794c\">\n",
              "  <button class=\"colab-df-quickchart\" onclick=\"quickchart('df-8264b905-f4f6-4fb9-945b-c609324e794c')\"\n",
              "            title=\"Suggest charts\"\n",
              "            style=\"display:none;\">\n",
              "\n",
              "<svg xmlns=\"http://www.w3.org/2000/svg\" height=\"24px\"viewBox=\"0 0 24 24\"\n",
              "     width=\"24px\">\n",
              "    <g>\n",
              "        <path d=\"M19 3H5c-1.1 0-2 .9-2 2v14c0 1.1.9 2 2 2h14c1.1 0 2-.9 2-2V5c0-1.1-.9-2-2-2zM9 17H7v-7h2v7zm4 0h-2V7h2v10zm4 0h-2v-4h2v4z\"/>\n",
              "    </g>\n",
              "</svg>\n",
              "  </button>\n",
              "\n",
              "<style>\n",
              "  .colab-df-quickchart {\n",
              "      --bg-color: #E8F0FE;\n",
              "      --fill-color: #1967D2;\n",
              "      --hover-bg-color: #E2EBFA;\n",
              "      --hover-fill-color: #174EA6;\n",
              "      --disabled-fill-color: #AAA;\n",
              "      --disabled-bg-color: #DDD;\n",
              "  }\n",
              "\n",
              "  [theme=dark] .colab-df-quickchart {\n",
              "      --bg-color: #3B4455;\n",
              "      --fill-color: #D2E3FC;\n",
              "      --hover-bg-color: #434B5C;\n",
              "      --hover-fill-color: #FFFFFF;\n",
              "      --disabled-bg-color: #3B4455;\n",
              "      --disabled-fill-color: #666;\n",
              "  }\n",
              "\n",
              "  .colab-df-quickchart {\n",
              "    background-color: var(--bg-color);\n",
              "    border: none;\n",
              "    border-radius: 50%;\n",
              "    cursor: pointer;\n",
              "    display: none;\n",
              "    fill: var(--fill-color);\n",
              "    height: 32px;\n",
              "    padding: 0;\n",
              "    width: 32px;\n",
              "  }\n",
              "\n",
              "  .colab-df-quickchart:hover {\n",
              "    background-color: var(--hover-bg-color);\n",
              "    box-shadow: 0 1px 2px rgba(60, 64, 67, 0.3), 0 1px 3px 1px rgba(60, 64, 67, 0.15);\n",
              "    fill: var(--button-hover-fill-color);\n",
              "  }\n",
              "\n",
              "  .colab-df-quickchart-complete:disabled,\n",
              "  .colab-df-quickchart-complete:disabled:hover {\n",
              "    background-color: var(--disabled-bg-color);\n",
              "    fill: var(--disabled-fill-color);\n",
              "    box-shadow: none;\n",
              "  }\n",
              "\n",
              "  .colab-df-spinner {\n",
              "    border: 2px solid var(--fill-color);\n",
              "    border-color: transparent;\n",
              "    border-bottom-color: var(--fill-color);\n",
              "    animation:\n",
              "      spin 1s steps(1) infinite;\n",
              "  }\n",
              "\n",
              "  @keyframes spin {\n",
              "    0% {\n",
              "      border-color: transparent;\n",
              "      border-bottom-color: var(--fill-color);\n",
              "      border-left-color: var(--fill-color);\n",
              "    }\n",
              "    20% {\n",
              "      border-color: transparent;\n",
              "      border-left-color: var(--fill-color);\n",
              "      border-top-color: var(--fill-color);\n",
              "    }\n",
              "    30% {\n",
              "      border-color: transparent;\n",
              "      border-left-color: var(--fill-color);\n",
              "      border-top-color: var(--fill-color);\n",
              "      border-right-color: var(--fill-color);\n",
              "    }\n",
              "    40% {\n",
              "      border-color: transparent;\n",
              "      border-right-color: var(--fill-color);\n",
              "      border-top-color: var(--fill-color);\n",
              "    }\n",
              "    60% {\n",
              "      border-color: transparent;\n",
              "      border-right-color: var(--fill-color);\n",
              "    }\n",
              "    80% {\n",
              "      border-color: transparent;\n",
              "      border-right-color: var(--fill-color);\n",
              "      border-bottom-color: var(--fill-color);\n",
              "    }\n",
              "    90% {\n",
              "      border-color: transparent;\n",
              "      border-bottom-color: var(--fill-color);\n",
              "    }\n",
              "  }\n",
              "</style>\n",
              "\n",
              "  <script>\n",
              "    async function quickchart(key) {\n",
              "      const quickchartButtonEl =\n",
              "        document.querySelector('#' + key + ' button');\n",
              "      quickchartButtonEl.disabled = true;  // To prevent multiple clicks.\n",
              "      quickchartButtonEl.classList.add('colab-df-spinner');\n",
              "      try {\n",
              "        const charts = await google.colab.kernel.invokeFunction(\n",
              "            'suggestCharts', [key], {});\n",
              "      } catch (error) {\n",
              "        console.error('Error during call to suggestCharts:', error);\n",
              "      }\n",
              "      quickchartButtonEl.classList.remove('colab-df-spinner');\n",
              "      quickchartButtonEl.classList.add('colab-df-quickchart-complete');\n",
              "    }\n",
              "    (() => {\n",
              "      let quickchartButtonEl =\n",
              "        document.querySelector('#df-8264b905-f4f6-4fb9-945b-c609324e794c button');\n",
              "      quickchartButtonEl.style.display =\n",
              "        google.colab.kernel.accessAllowed ? 'block' : 'none';\n",
              "    })();\n",
              "  </script>\n",
              "</div>\n",
              "\n",
              "    </div>\n",
              "  </div>\n"
            ]
          },
          "metadata": {},
          "execution_count": 78
        }
      ],
      "source": [
        "df.describe()"
      ]
    },
    {
      "cell_type": "markdown",
      "metadata": {
        "id": "DHwqofOJkQcl"
      },
      "source": [
        "#### **Conclusion**\n",
        "\n",
        "Analysis revealed that the overall churn rate is \\~17%, and that this rate is consistent between iPhone users and Android users.\n",
        "\n",
        "Perhaps you feel that the more deeply you explore the data, the more questions arise. This is not uncommon! In this case, it's worth asking the Waze data team why so many users used the app so much in just the last month.\n",
        "\n",
        "Also, EDA has revealed that users who drive very long distances on their driving days are _more_ likely to churn, but users who drive more often are _less_ likely to churn. The reason for this discrepancy is an opportunity for further investigation, and it would be something else to ask the Waze data team about."
      ]
    },
    {
      "cell_type": "markdown",
      "metadata": {
        "id": "NsvBtco1x8GN"
      },
      "source": [
        "<img src=\"images/Execute.png\" width=\"100\" height=\"100\" align=left>\n",
        "\n",
        "## **PACE: Execute**\n",
        "\n",
        "Consider the questions in your PACE Strategy Document to reflect on the Execute stage."
      ]
    },
    {
      "cell_type": "markdown",
      "metadata": {
        "id": "csHAfM-RSO7l"
      },
      "source": [
        "### **Task 4a. Results and evaluation**\n",
        "\n",
        "Having built visualizations in Python, what have you learned about the dataset? What other questions have your visualizations uncovered that you should pursue?\n",
        "\n",
        "**Pro tip:** Put yourself in your client's perspective. What would they want to know?\n",
        "\n",
        "Use the following code fields to pursue any additional EDA based on the visualizations you've already plotted. Also use the space to make sure your visualizations are clean, easily understandable, and accessible.\n",
        "\n",
        "**Ask yourself:** Did you consider color, contrast, emphasis, and labeling?\n",
        "\n"
      ]
    },
    {
      "cell_type": "markdown",
      "metadata": {
        "id": "pOp0vmf1zOHO"
      },
      "source": [
        "==> ENTER YOUR RESPONSE HERE\n",
        "\n",
        "I have learned ....\n",
        "\n",
        "My other questions are ....\n",
        "\n",
        "My client would likely want to know ...\n",
        "\n",
        "\n"
      ]
    },
    {
      "cell_type": "markdown",
      "metadata": {
        "id": "8DPt8f6Pa2hg"
      },
      "source": [
        "Use the following two code blocks (add more blocks if you like) to do additional EDA you feel is important based on the given scenario."
      ]
    },
    {
      "cell_type": "code",
      "execution_count": 79,
      "metadata": {
        "id": "puYiPmvGdTJH"
      },
      "outputs": [],
      "source": [
        "df['monthly_drives_per_session_ratio'] = (df['drives']/df['sessions'])\n"
      ]
    },
    {
      "cell_type": "code",
      "execution_count": 80,
      "metadata": {
        "id": "iEv7pHw-dTRP",
        "colab": {
          "base_uri": "https://localhost:8080/",
          "height": 383
        },
        "outputId": "68366aac-33c6-479e-db6e-bf154a69b90a"
      },
      "outputs": [
        {
          "output_type": "execute_result",
          "data": {
            "text/plain": [
              "   ID     label  sessions  drives  total_sessions  n_days_after_onboarding  \\\n",
              "0   0  retained       243     201      296.748273                     2276   \n",
              "1   1  retained       133     107      326.896596                     1225   \n",
              "2   2  retained       114      95      135.522926                     2651   \n",
              "3   3  retained        49      40       67.589221                       15   \n",
              "4   4  retained        84      68      168.247020                     1562   \n",
              "5   5  retained       113     103      279.544437                     2637   \n",
              "6   6  retained         3       2      236.725314                      360   \n",
              "7   7  retained        39      35      176.072845                     2999   \n",
              "8   8  retained        57      46      183.532018                      424   \n",
              "9   9   churned        84      68      244.802115                     2997   \n",
              "\n",
              "   total_navigations_fav1  total_navigations_fav2  driven_km_drives  \\\n",
              "0                     208                       0       2628.845068   \n",
              "1                      19                      64       8889.794236   \n",
              "2                       0                       0       3059.148818   \n",
              "3                     322                       7        913.591123   \n",
              "4                     166                       5       3950.202008   \n",
              "5                       0                       0        901.238699   \n",
              "6                     185                      18       5249.172828   \n",
              "7                       0                       0       7892.052468   \n",
              "8                       0                      26       2651.709764   \n",
              "9                      72                       0       6043.460295   \n",
              "\n",
              "   duration_minutes_drives  activity_days  driving_days   device  \\\n",
              "0              1985.775061             28            19  Android   \n",
              "1              3160.472914             13            11   iPhone   \n",
              "2              1610.735904             14             8  Android   \n",
              "3               587.196542              7             3   iPhone   \n",
              "4              1219.555924             27            18  Android   \n",
              "5               439.101397             15            11   iPhone   \n",
              "6               726.577205             28            23   iPhone   \n",
              "7              2466.981741             22            20   iPhone   \n",
              "8              1594.342984             25            20  Android   \n",
              "9              2341.838528              7             3   iPhone   \n",
              "\n",
              "   km_per_driving_day  percent_sessions_in_last_month  \\\n",
              "0          138.360267                        0.953670   \n",
              "1         1246.901868                        0.406856   \n",
              "2          382.393602                        0.841186   \n",
              "3          304.530374                        0.724968   \n",
              "4          219.455667                        0.499266   \n",
              "5           81.930791                        0.404229   \n",
              "6          228.224906                        0.012673   \n",
              "7          394.602623                        0.221499   \n",
              "8          132.585488                        0.310573   \n",
              "9         2014.486765                        0.343134   \n",
              "\n",
              "   monthly_drives_per_session_ratio  \n",
              "0                          0.827160  \n",
              "1                          0.804511  \n",
              "2                          0.833333  \n",
              "3                          0.816327  \n",
              "4                          0.809524  \n",
              "5                          0.911504  \n",
              "6                          0.666667  \n",
              "7                          0.897436  \n",
              "8                          0.807018  \n",
              "9                          0.809524  "
            ],
            "text/html": [
              "\n",
              "  <div id=\"df-7aaa1517-968c-40de-97c1-46527fcc37ef\" class=\"colab-df-container\">\n",
              "    <div>\n",
              "<style scoped>\n",
              "    .dataframe tbody tr th:only-of-type {\n",
              "        vertical-align: middle;\n",
              "    }\n",
              "\n",
              "    .dataframe tbody tr th {\n",
              "        vertical-align: top;\n",
              "    }\n",
              "\n",
              "    .dataframe thead th {\n",
              "        text-align: right;\n",
              "    }\n",
              "</style>\n",
              "<table border=\"1\" class=\"dataframe\">\n",
              "  <thead>\n",
              "    <tr style=\"text-align: right;\">\n",
              "      <th></th>\n",
              "      <th>ID</th>\n",
              "      <th>label</th>\n",
              "      <th>sessions</th>\n",
              "      <th>drives</th>\n",
              "      <th>total_sessions</th>\n",
              "      <th>n_days_after_onboarding</th>\n",
              "      <th>total_navigations_fav1</th>\n",
              "      <th>total_navigations_fav2</th>\n",
              "      <th>driven_km_drives</th>\n",
              "      <th>duration_minutes_drives</th>\n",
              "      <th>activity_days</th>\n",
              "      <th>driving_days</th>\n",
              "      <th>device</th>\n",
              "      <th>km_per_driving_day</th>\n",
              "      <th>percent_sessions_in_last_month</th>\n",
              "      <th>monthly_drives_per_session_ratio</th>\n",
              "    </tr>\n",
              "  </thead>\n",
              "  <tbody>\n",
              "    <tr>\n",
              "      <th>0</th>\n",
              "      <td>0</td>\n",
              "      <td>retained</td>\n",
              "      <td>243</td>\n",
              "      <td>201</td>\n",
              "      <td>296.748273</td>\n",
              "      <td>2276</td>\n",
              "      <td>208</td>\n",
              "      <td>0</td>\n",
              "      <td>2628.845068</td>\n",
              "      <td>1985.775061</td>\n",
              "      <td>28</td>\n",
              "      <td>19</td>\n",
              "      <td>Android</td>\n",
              "      <td>138.360267</td>\n",
              "      <td>0.953670</td>\n",
              "      <td>0.827160</td>\n",
              "    </tr>\n",
              "    <tr>\n",
              "      <th>1</th>\n",
              "      <td>1</td>\n",
              "      <td>retained</td>\n",
              "      <td>133</td>\n",
              "      <td>107</td>\n",
              "      <td>326.896596</td>\n",
              "      <td>1225</td>\n",
              "      <td>19</td>\n",
              "      <td>64</td>\n",
              "      <td>8889.794236</td>\n",
              "      <td>3160.472914</td>\n",
              "      <td>13</td>\n",
              "      <td>11</td>\n",
              "      <td>iPhone</td>\n",
              "      <td>1246.901868</td>\n",
              "      <td>0.406856</td>\n",
              "      <td>0.804511</td>\n",
              "    </tr>\n",
              "    <tr>\n",
              "      <th>2</th>\n",
              "      <td>2</td>\n",
              "      <td>retained</td>\n",
              "      <td>114</td>\n",
              "      <td>95</td>\n",
              "      <td>135.522926</td>\n",
              "      <td>2651</td>\n",
              "      <td>0</td>\n",
              "      <td>0</td>\n",
              "      <td>3059.148818</td>\n",
              "      <td>1610.735904</td>\n",
              "      <td>14</td>\n",
              "      <td>8</td>\n",
              "      <td>Android</td>\n",
              "      <td>382.393602</td>\n",
              "      <td>0.841186</td>\n",
              "      <td>0.833333</td>\n",
              "    </tr>\n",
              "    <tr>\n",
              "      <th>3</th>\n",
              "      <td>3</td>\n",
              "      <td>retained</td>\n",
              "      <td>49</td>\n",
              "      <td>40</td>\n",
              "      <td>67.589221</td>\n",
              "      <td>15</td>\n",
              "      <td>322</td>\n",
              "      <td>7</td>\n",
              "      <td>913.591123</td>\n",
              "      <td>587.196542</td>\n",
              "      <td>7</td>\n",
              "      <td>3</td>\n",
              "      <td>iPhone</td>\n",
              "      <td>304.530374</td>\n",
              "      <td>0.724968</td>\n",
              "      <td>0.816327</td>\n",
              "    </tr>\n",
              "    <tr>\n",
              "      <th>4</th>\n",
              "      <td>4</td>\n",
              "      <td>retained</td>\n",
              "      <td>84</td>\n",
              "      <td>68</td>\n",
              "      <td>168.247020</td>\n",
              "      <td>1562</td>\n",
              "      <td>166</td>\n",
              "      <td>5</td>\n",
              "      <td>3950.202008</td>\n",
              "      <td>1219.555924</td>\n",
              "      <td>27</td>\n",
              "      <td>18</td>\n",
              "      <td>Android</td>\n",
              "      <td>219.455667</td>\n",
              "      <td>0.499266</td>\n",
              "      <td>0.809524</td>\n",
              "    </tr>\n",
              "    <tr>\n",
              "      <th>5</th>\n",
              "      <td>5</td>\n",
              "      <td>retained</td>\n",
              "      <td>113</td>\n",
              "      <td>103</td>\n",
              "      <td>279.544437</td>\n",
              "      <td>2637</td>\n",
              "      <td>0</td>\n",
              "      <td>0</td>\n",
              "      <td>901.238699</td>\n",
              "      <td>439.101397</td>\n",
              "      <td>15</td>\n",
              "      <td>11</td>\n",
              "      <td>iPhone</td>\n",
              "      <td>81.930791</td>\n",
              "      <td>0.404229</td>\n",
              "      <td>0.911504</td>\n",
              "    </tr>\n",
              "    <tr>\n",
              "      <th>6</th>\n",
              "      <td>6</td>\n",
              "      <td>retained</td>\n",
              "      <td>3</td>\n",
              "      <td>2</td>\n",
              "      <td>236.725314</td>\n",
              "      <td>360</td>\n",
              "      <td>185</td>\n",
              "      <td>18</td>\n",
              "      <td>5249.172828</td>\n",
              "      <td>726.577205</td>\n",
              "      <td>28</td>\n",
              "      <td>23</td>\n",
              "      <td>iPhone</td>\n",
              "      <td>228.224906</td>\n",
              "      <td>0.012673</td>\n",
              "      <td>0.666667</td>\n",
              "    </tr>\n",
              "    <tr>\n",
              "      <th>7</th>\n",
              "      <td>7</td>\n",
              "      <td>retained</td>\n",
              "      <td>39</td>\n",
              "      <td>35</td>\n",
              "      <td>176.072845</td>\n",
              "      <td>2999</td>\n",
              "      <td>0</td>\n",
              "      <td>0</td>\n",
              "      <td>7892.052468</td>\n",
              "      <td>2466.981741</td>\n",
              "      <td>22</td>\n",
              "      <td>20</td>\n",
              "      <td>iPhone</td>\n",
              "      <td>394.602623</td>\n",
              "      <td>0.221499</td>\n",
              "      <td>0.897436</td>\n",
              "    </tr>\n",
              "    <tr>\n",
              "      <th>8</th>\n",
              "      <td>8</td>\n",
              "      <td>retained</td>\n",
              "      <td>57</td>\n",
              "      <td>46</td>\n",
              "      <td>183.532018</td>\n",
              "      <td>424</td>\n",
              "      <td>0</td>\n",
              "      <td>26</td>\n",
              "      <td>2651.709764</td>\n",
              "      <td>1594.342984</td>\n",
              "      <td>25</td>\n",
              "      <td>20</td>\n",
              "      <td>Android</td>\n",
              "      <td>132.585488</td>\n",
              "      <td>0.310573</td>\n",
              "      <td>0.807018</td>\n",
              "    </tr>\n",
              "    <tr>\n",
              "      <th>9</th>\n",
              "      <td>9</td>\n",
              "      <td>churned</td>\n",
              "      <td>84</td>\n",
              "      <td>68</td>\n",
              "      <td>244.802115</td>\n",
              "      <td>2997</td>\n",
              "      <td>72</td>\n",
              "      <td>0</td>\n",
              "      <td>6043.460295</td>\n",
              "      <td>2341.838528</td>\n",
              "      <td>7</td>\n",
              "      <td>3</td>\n",
              "      <td>iPhone</td>\n",
              "      <td>2014.486765</td>\n",
              "      <td>0.343134</td>\n",
              "      <td>0.809524</td>\n",
              "    </tr>\n",
              "  </tbody>\n",
              "</table>\n",
              "</div>\n",
              "    <div class=\"colab-df-buttons\">\n",
              "\n",
              "  <div class=\"colab-df-container\">\n",
              "    <button class=\"colab-df-convert\" onclick=\"convertToInteractive('df-7aaa1517-968c-40de-97c1-46527fcc37ef')\"\n",
              "            title=\"Convert this dataframe to an interactive table.\"\n",
              "            style=\"display:none;\">\n",
              "\n",
              "  <svg xmlns=\"http://www.w3.org/2000/svg\" height=\"24px\" viewBox=\"0 -960 960 960\">\n",
              "    <path d=\"M120-120v-720h720v720H120Zm60-500h600v-160H180v160Zm220 220h160v-160H400v160Zm0 220h160v-160H400v160ZM180-400h160v-160H180v160Zm440 0h160v-160H620v160ZM180-180h160v-160H180v160Zm440 0h160v-160H620v160Z\"/>\n",
              "  </svg>\n",
              "    </button>\n",
              "\n",
              "  <style>\n",
              "    .colab-df-container {\n",
              "      display:flex;\n",
              "      gap: 12px;\n",
              "    }\n",
              "\n",
              "    .colab-df-convert {\n",
              "      background-color: #E8F0FE;\n",
              "      border: none;\n",
              "      border-radius: 50%;\n",
              "      cursor: pointer;\n",
              "      display: none;\n",
              "      fill: #1967D2;\n",
              "      height: 32px;\n",
              "      padding: 0 0 0 0;\n",
              "      width: 32px;\n",
              "    }\n",
              "\n",
              "    .colab-df-convert:hover {\n",
              "      background-color: #E2EBFA;\n",
              "      box-shadow: 0px 1px 2px rgba(60, 64, 67, 0.3), 0px 1px 3px 1px rgba(60, 64, 67, 0.15);\n",
              "      fill: #174EA6;\n",
              "    }\n",
              "\n",
              "    .colab-df-buttons div {\n",
              "      margin-bottom: 4px;\n",
              "    }\n",
              "\n",
              "    [theme=dark] .colab-df-convert {\n",
              "      background-color: #3B4455;\n",
              "      fill: #D2E3FC;\n",
              "    }\n",
              "\n",
              "    [theme=dark] .colab-df-convert:hover {\n",
              "      background-color: #434B5C;\n",
              "      box-shadow: 0px 1px 3px 1px rgba(0, 0, 0, 0.15);\n",
              "      filter: drop-shadow(0px 1px 2px rgba(0, 0, 0, 0.3));\n",
              "      fill: #FFFFFF;\n",
              "    }\n",
              "  </style>\n",
              "\n",
              "    <script>\n",
              "      const buttonEl =\n",
              "        document.querySelector('#df-7aaa1517-968c-40de-97c1-46527fcc37ef button.colab-df-convert');\n",
              "      buttonEl.style.display =\n",
              "        google.colab.kernel.accessAllowed ? 'block' : 'none';\n",
              "\n",
              "      async function convertToInteractive(key) {\n",
              "        const element = document.querySelector('#df-7aaa1517-968c-40de-97c1-46527fcc37ef');\n",
              "        const dataTable =\n",
              "          await google.colab.kernel.invokeFunction('convertToInteractive',\n",
              "                                                    [key], {});\n",
              "        if (!dataTable) return;\n",
              "\n",
              "        const docLinkHtml = 'Like what you see? Visit the ' +\n",
              "          '<a target=\"_blank\" href=https://colab.research.google.com/notebooks/data_table.ipynb>data table notebook</a>'\n",
              "          + ' to learn more about interactive tables.';\n",
              "        element.innerHTML = '';\n",
              "        dataTable['output_type'] = 'display_data';\n",
              "        await google.colab.output.renderOutput(dataTable, element);\n",
              "        const docLink = document.createElement('div');\n",
              "        docLink.innerHTML = docLinkHtml;\n",
              "        element.appendChild(docLink);\n",
              "      }\n",
              "    </script>\n",
              "  </div>\n",
              "\n",
              "\n",
              "<div id=\"df-55de2b67-f867-4b6b-b1b5-90cbcc6c26f2\">\n",
              "  <button class=\"colab-df-quickchart\" onclick=\"quickchart('df-55de2b67-f867-4b6b-b1b5-90cbcc6c26f2')\"\n",
              "            title=\"Suggest charts\"\n",
              "            style=\"display:none;\">\n",
              "\n",
              "<svg xmlns=\"http://www.w3.org/2000/svg\" height=\"24px\"viewBox=\"0 0 24 24\"\n",
              "     width=\"24px\">\n",
              "    <g>\n",
              "        <path d=\"M19 3H5c-1.1 0-2 .9-2 2v14c0 1.1.9 2 2 2h14c1.1 0 2-.9 2-2V5c0-1.1-.9-2-2-2zM9 17H7v-7h2v7zm4 0h-2V7h2v10zm4 0h-2v-4h2v4z\"/>\n",
              "    </g>\n",
              "</svg>\n",
              "  </button>\n",
              "\n",
              "<style>\n",
              "  .colab-df-quickchart {\n",
              "      --bg-color: #E8F0FE;\n",
              "      --fill-color: #1967D2;\n",
              "      --hover-bg-color: #E2EBFA;\n",
              "      --hover-fill-color: #174EA6;\n",
              "      --disabled-fill-color: #AAA;\n",
              "      --disabled-bg-color: #DDD;\n",
              "  }\n",
              "\n",
              "  [theme=dark] .colab-df-quickchart {\n",
              "      --bg-color: #3B4455;\n",
              "      --fill-color: #D2E3FC;\n",
              "      --hover-bg-color: #434B5C;\n",
              "      --hover-fill-color: #FFFFFF;\n",
              "      --disabled-bg-color: #3B4455;\n",
              "      --disabled-fill-color: #666;\n",
              "  }\n",
              "\n",
              "  .colab-df-quickchart {\n",
              "    background-color: var(--bg-color);\n",
              "    border: none;\n",
              "    border-radius: 50%;\n",
              "    cursor: pointer;\n",
              "    display: none;\n",
              "    fill: var(--fill-color);\n",
              "    height: 32px;\n",
              "    padding: 0;\n",
              "    width: 32px;\n",
              "  }\n",
              "\n",
              "  .colab-df-quickchart:hover {\n",
              "    background-color: var(--hover-bg-color);\n",
              "    box-shadow: 0 1px 2px rgba(60, 64, 67, 0.3), 0 1px 3px 1px rgba(60, 64, 67, 0.15);\n",
              "    fill: var(--button-hover-fill-color);\n",
              "  }\n",
              "\n",
              "  .colab-df-quickchart-complete:disabled,\n",
              "  .colab-df-quickchart-complete:disabled:hover {\n",
              "    background-color: var(--disabled-bg-color);\n",
              "    fill: var(--disabled-fill-color);\n",
              "    box-shadow: none;\n",
              "  }\n",
              "\n",
              "  .colab-df-spinner {\n",
              "    border: 2px solid var(--fill-color);\n",
              "    border-color: transparent;\n",
              "    border-bottom-color: var(--fill-color);\n",
              "    animation:\n",
              "      spin 1s steps(1) infinite;\n",
              "  }\n",
              "\n",
              "  @keyframes spin {\n",
              "    0% {\n",
              "      border-color: transparent;\n",
              "      border-bottom-color: var(--fill-color);\n",
              "      border-left-color: var(--fill-color);\n",
              "    }\n",
              "    20% {\n",
              "      border-color: transparent;\n",
              "      border-left-color: var(--fill-color);\n",
              "      border-top-color: var(--fill-color);\n",
              "    }\n",
              "    30% {\n",
              "      border-color: transparent;\n",
              "      border-left-color: var(--fill-color);\n",
              "      border-top-color: var(--fill-color);\n",
              "      border-right-color: var(--fill-color);\n",
              "    }\n",
              "    40% {\n",
              "      border-color: transparent;\n",
              "      border-right-color: var(--fill-color);\n",
              "      border-top-color: var(--fill-color);\n",
              "    }\n",
              "    60% {\n",
              "      border-color: transparent;\n",
              "      border-right-color: var(--fill-color);\n",
              "    }\n",
              "    80% {\n",
              "      border-color: transparent;\n",
              "      border-right-color: var(--fill-color);\n",
              "      border-bottom-color: var(--fill-color);\n",
              "    }\n",
              "    90% {\n",
              "      border-color: transparent;\n",
              "      border-bottom-color: var(--fill-color);\n",
              "    }\n",
              "  }\n",
              "</style>\n",
              "\n",
              "  <script>\n",
              "    async function quickchart(key) {\n",
              "      const quickchartButtonEl =\n",
              "        document.querySelector('#' + key + ' button');\n",
              "      quickchartButtonEl.disabled = true;  // To prevent multiple clicks.\n",
              "      quickchartButtonEl.classList.add('colab-df-spinner');\n",
              "      try {\n",
              "        const charts = await google.colab.kernel.invokeFunction(\n",
              "            'suggestCharts', [key], {});\n",
              "      } catch (error) {\n",
              "        console.error('Error during call to suggestCharts:', error);\n",
              "      }\n",
              "      quickchartButtonEl.classList.remove('colab-df-spinner');\n",
              "      quickchartButtonEl.classList.add('colab-df-quickchart-complete');\n",
              "    }\n",
              "    (() => {\n",
              "      let quickchartButtonEl =\n",
              "        document.querySelector('#df-55de2b67-f867-4b6b-b1b5-90cbcc6c26f2 button');\n",
              "      quickchartButtonEl.style.display =\n",
              "        google.colab.kernel.accessAllowed ? 'block' : 'none';\n",
              "    })();\n",
              "  </script>\n",
              "</div>\n",
              "\n",
              "    </div>\n",
              "  </div>\n"
            ]
          },
          "metadata": {},
          "execution_count": 80
        }
      ],
      "source": [
        "df.head(10)\n"
      ]
    },
    {
      "cell_type": "markdown",
      "metadata": {
        "id": "U4HeITeOwXfo"
      },
      "source": [
        "### **Task 4b. Conclusion**\n",
        "\n",
        "Now that you've explored and visualized your data, the next step is to share your findings with Harriet Hadzic, Waze's Director of Data Analysis. Consider the following questions as you prepare to write your executive summary. Think about key points you may want to share with the team, and what information is most relevant to the user churn project.\n",
        "\n",
        "**Questions:**\n",
        "\n",
        "1. What types of distributions did you notice in the variables? What did this tell you about the data?\n",
        "\n",
        "-Nearly all the variables were either very right-skewed or uniformly distributed. For the right-skewed distributions, this means that most users had values in the lower end of the range for that variable. For the uniform distributions, this means that users were generally equally likely to have values anywhere within the range for that variable.\n",
        "\n",
        "2. Was there anything that led you to believe the data was erroneous or problematic in any way?\n",
        "\n",
        "-Most of the data was not problematic, and there was no indication that any single variable was completely wrong. However, several variables had highly improbable or perhaps even impossible outlying values, such as driven_km_drives. Some of the monthly variables also might be problematic, such as activity_days and driving_days, because one has a max value of 31 while the other has a max value of 30, indicating that data collection might not have occurred in the same month for both of these variables.\n",
        "\n",
        "3. Did your investigation give rise to further questions that you would like to explore or ask the Waze team about?\n",
        "\n",
        "-Yes. I'd want to ask the Waze data team to confirm that the monthly variables were collected during the same month, given the fact that some have max values of 30 days while others have 31 days. I'd also want to learn why so many long-time users suddenly started using the app so much in just the last month. Was there anything that changed in the last month that might prompt this kind of behavior?\n",
        "\n",
        "\n",
        "\n",
        "4. What percentage of users churned and what percentage were retained?\n",
        "\n",
        "-Less than 18% of users churned, and ~82% were retained.\n",
        "\n",
        "5. What factors correlated with user churn? How?\n",
        "\n",
        "-Distance driven per driving day had a positive correlation with user churn. The farther a user drove on each driving day, the more likely they were to churn. On the other hand, number of driving days had a negative correlation with churn. Users who drove more days of the last month were less likely to churn.\n",
        "\n",
        "\n",
        "\n",
        "6. Did newer uses have greater representation in this dataset than users with longer tenure? How do you know?\n",
        "\n",
        "-No. Users of all tenures from brand new to ~10 years were relatively evenly represented in the data. This is borne out by the histogram for n_days_after_onboarding, which reveals a uniform distribution for this variable.\n"
      ]
    },
    {
      "cell_type": "markdown",
      "metadata": {
        "id": "iTt3iY6IDDgi"
      },
      "source": [
        "**Congratulations!** You've completed this lab. However, you may not notice a green check mark next to this item on Coursera's platform. Please continue your progress regardless of the check mark. Just click on the \"save\" icon at the top of this notebook to ensure your work has been logged."
      ]
    }
  ],
  "metadata": {
    "colab": {
      "provenance": [],
      "include_colab_link": true
    },
    "kernelspec": {
      "display_name": "Python 3",
      "language": "python",
      "name": "python3"
    },
    "language_info": {
      "codemirror_mode": {
        "name": "ipython",
        "version": 3
      },
      "file_extension": ".py",
      "mimetype": "text/x-python",
      "name": "python",
      "nbconvert_exporter": "python",
      "pygments_lexer": "ipython3",
      "version": "3.7.6"
    }
  },
  "nbformat": 4,
  "nbformat_minor": 0
}